{
  "nbformat": 4,
  "nbformat_minor": 0,
  "metadata": {
    "colab": {
      "name": "ML01-DyhanHaqnasCrespo.ipynb",
      "provenance": [],
      "collapsed_sections": []
    },
    "kernelspec": {
      "name": "python3",
      "display_name": "Python 3"
    },
    "accelerator": "GPU"
  },
  "cells": [
    {
      "cell_type": "markdown",
      "metadata": {
        "id": "L1KCMhzpuF5d",
        "colab_type": "text"
      },
      "source": [
        "."
      ]
    },
    {
      "cell_type": "markdown",
      "metadata": {
        "colab_type": "text",
        "id": "QfMx4U_ouJUd"
      },
      "source": [
        "# Klasifikasi Pakaian dan Aksesoris F mnist dengan menggunakan Metode CNN"
      ]
    },
    {
      "cell_type": "markdown",
      "metadata": {
        "colab_type": "text",
        "id": "2uMCXGCduLBf"
      },
      "source": [
        "."
      ]
    },
    {
      "cell_type": "markdown",
      "metadata": {
        "id": "GZ18sMqA95EL",
        "colab_type": "text"
      },
      "source": [
        "## Mengimport Library yang di perlukan"
      ]
    },
    {
      "cell_type": "code",
      "metadata": {
        "id": "AUo25igbTtPC",
        "colab_type": "code",
        "outputId": "fd4cefc5-1e25-43d7-af07-6051d1bfcc79",
        "colab": {
          "base_uri": "https://localhost:8080/",
          "height": 77
        }
      },
      "source": [
        "from __future__ import absolute_import, division, print_function, unicode_literals\n",
        "\n",
        "# Mengimport Library TensorFlow dan tf.keras\n",
        "import tensorflow as tf\n",
        "from tensorflow import keras\n",
        "\n",
        "# Import Pandas untuk data manipulasi dataframes\n",
        "import pandas as pd\n",
        "\n",
        "#Import Numpy untuk kalkulasi / perhitungan\n",
        "import numpy as np\n",
        "\n",
        "# Import Warnings \n",
        "import warnings\n",
        "warnings.filterwarnings('ignore')\n",
        "\n",
        "# Import matplotlib untuk visualisasi data\n",
        "import matplotlib.pyplot as plt\n",
        "\n",
        "#Import train_test_split dari scikit library\n",
        "from sklearn.model_selection import train_test_split\n",
        "\n",
        "print(tf.__version__)"
      ],
      "execution_count": 0,
      "outputs": [
        {
          "output_type": "display_data",
          "data": {
            "text/html": [
              "<p style=\"color: red;\">\n",
              "The default version of TensorFlow in Colab will soon switch to TensorFlow 2.x.<br>\n",
              "We recommend you <a href=\"https://www.tensorflow.org/guide/migrate\" target=\"_blank\">upgrade</a> now \n",
              "or ensure your notebook will continue to use TensorFlow 1.x via the <code>%tensorflow_version 1.x</code> magic:\n",
              "<a href=\"https://colab.research.google.com/notebooks/tensorflow_version.ipynb\" target=\"_blank\">more info</a>.</p>\n"
            ],
            "text/plain": [
              "<IPython.core.display.HTML object>"
            ]
          },
          "metadata": {
            "tags": []
          }
        },
        {
          "output_type": "stream",
          "text": [
            "1.15.0\n"
          ],
          "name": "stdout"
        }
      ]
    },
    {
      "cell_type": "markdown",
      "metadata": {
        "id": "9Bj2W8Aaoto4",
        "colab_type": "text"
      },
      "source": [
        "."
      ]
    },
    {
      "cell_type": "markdown",
      "metadata": {
        "id": "1ONNhSeAkpI-",
        "colab_type": "text"
      },
      "source": [
        "\n",
        "### Download Dataset\n"
      ]
    },
    {
      "cell_type": "code",
      "metadata": {
        "id": "5PVZKliFWi2u",
        "colab_type": "code",
        "outputId": "7456f477-fd8d-4e5b-8e91-7d5bcb221e4a",
        "colab": {
          "base_uri": "https://localhost:8080/",
          "height": 748
        }
      },
      "source": [
        "!mkdir data/fashion\n",
        "!wget -O data/fashion/train-images-idx3-ubyte.gz http://fashion-mnist.s3-website.eu-central-1.amazonaws.com/train-images-idx3-ubyte.gz\n",
        "!wget -O data/fashion/train-labels-idx1-ubyte.gz http://fashion-mnist.s3-website.eu-central-1.amazonaws.com/train-labels-idx1-ubyte.gz\n",
        "!wget -O data/fashion/t10k-images-idx3-ubyte.gz http://fashion-mnist.s3-website.eu-central-1.amazonaws.com/t10k-images-idx3-ubyte.gz\n",
        "!wget -O data/fashion/t10k-labels-idx1-ubyte.gz http://fashion-mnist.s3-website.eu-central-1.amazonaws.com/t10k-labels-idx1-ubyte.gz"
      ],
      "execution_count": 0,
      "outputs": [
        {
          "output_type": "stream",
          "text": [
            "mkdir: cannot create directory ‘data/fashion’: File exists\n",
            "--2019-11-13 09:40:31--  http://fashion-mnist.s3-website.eu-central-1.amazonaws.com/train-images-idx3-ubyte.gz\n",
            "Resolving fashion-mnist.s3-website.eu-central-1.amazonaws.com (fashion-mnist.s3-website.eu-central-1.amazonaws.com)... 52.219.72.86\n",
            "Connecting to fashion-mnist.s3-website.eu-central-1.amazonaws.com (fashion-mnist.s3-website.eu-central-1.amazonaws.com)|52.219.72.86|:80... connected.\n",
            "HTTP request sent, awaiting response... 200 OK\n",
            "Length: 26421880 (25M) [binary/octet-stream]\n",
            "Saving to: ‘data/fashion/train-images-idx3-ubyte.gz’\n",
            "\n",
            "data/fashion/train- 100%[===================>]  25.20M  6.53MB/s    in 3.9s    \n",
            "\n",
            "2019-11-13 09:40:35 (6.53 MB/s) - ‘data/fashion/train-images-idx3-ubyte.gz’ saved [26421880/26421880]\n",
            "\n",
            "--2019-11-13 09:40:36--  http://fashion-mnist.s3-website.eu-central-1.amazonaws.com/train-labels-idx1-ubyte.gz\n",
            "Resolving fashion-mnist.s3-website.eu-central-1.amazonaws.com (fashion-mnist.s3-website.eu-central-1.amazonaws.com)... 52.219.72.3\n",
            "Connecting to fashion-mnist.s3-website.eu-central-1.amazonaws.com (fashion-mnist.s3-website.eu-central-1.amazonaws.com)|52.219.72.3|:80... connected.\n",
            "HTTP request sent, awaiting response... 200 OK\n",
            "Length: 29515 (29K) [binary/octet-stream]\n",
            "Saving to: ‘data/fashion/train-labels-idx1-ubyte.gz’\n",
            "\n",
            "data/fashion/train- 100%[===================>]  28.82K   112KB/s    in 0.3s    \n",
            "\n",
            "2019-11-13 09:40:37 (112 KB/s) - ‘data/fashion/train-labels-idx1-ubyte.gz’ saved [29515/29515]\n",
            "\n",
            "--2019-11-13 09:40:39--  http://fashion-mnist.s3-website.eu-central-1.amazonaws.com/t10k-images-idx3-ubyte.gz\n",
            "Resolving fashion-mnist.s3-website.eu-central-1.amazonaws.com (fashion-mnist.s3-website.eu-central-1.amazonaws.com)... 52.219.72.3\n",
            "Connecting to fashion-mnist.s3-website.eu-central-1.amazonaws.com (fashion-mnist.s3-website.eu-central-1.amazonaws.com)|52.219.72.3|:80... connected.\n",
            "HTTP request sent, awaiting response... 200 OK\n",
            "Length: 4422102 (4.2M) [binary/octet-stream]\n",
            "Saving to: ‘data/fashion/t10k-images-idx3-ubyte.gz’\n",
            "\n",
            "data/fashion/t10k-i 100%[===================>]   4.22M  2.04MB/s    in 2.1s    \n",
            "\n",
            "2019-11-13 09:40:42 (2.04 MB/s) - ‘data/fashion/t10k-images-idx3-ubyte.gz’ saved [4422102/4422102]\n",
            "\n",
            "--2019-11-13 09:40:44--  http://fashion-mnist.s3-website.eu-central-1.amazonaws.com/t10k-labels-idx1-ubyte.gz\n",
            "Resolving fashion-mnist.s3-website.eu-central-1.amazonaws.com (fashion-mnist.s3-website.eu-central-1.amazonaws.com)... 52.219.73.82\n",
            "Connecting to fashion-mnist.s3-website.eu-central-1.amazonaws.com (fashion-mnist.s3-website.eu-central-1.amazonaws.com)|52.219.73.82|:80... connected.\n",
            "HTTP request sent, awaiting response... 200 OK\n",
            "Length: 5148 (5.0K) [binary/octet-stream]\n",
            "Saving to: ‘data/fashion/t10k-labels-idx1-ubyte.gz’\n",
            "\n",
            "data/fashion/t10k-l 100%[===================>]   5.03K  --.-KB/s    in 0s      \n",
            "\n",
            "2019-11-13 09:40:44 (524 MB/s) - ‘data/fashion/t10k-labels-idx1-ubyte.gz’ saved [5148/5148]\n",
            "\n"
          ],
          "name": "stdout"
        }
      ]
    },
    {
      "cell_type": "markdown",
      "metadata": {
        "id": "uOmeZ7_vnmZo",
        "colab_type": "text"
      },
      "source": [
        "."
      ]
    },
    {
      "cell_type": "markdown",
      "metadata": {
        "id": "yXaoghvMotcs",
        "colab_type": "text"
      },
      "source": [
        "## Preprocessing"
      ]
    },
    {
      "cell_type": "markdown",
      "metadata": {
        "id": "bY3VHiUedejU",
        "colab_type": "text"
      },
      "source": [
        "### Load / Import Dataset"
      ]
    },
    {
      "cell_type": "code",
      "metadata": {
        "id": "QlUUtrRJW7Zc",
        "colab_type": "code",
        "outputId": "1fba8af9-3d2c-472c-fc39-84d47d8689ea",
        "colab": {
          "base_uri": "https://localhost:8080/",
          "height": 395
        }
      },
      "source": [
        "# Import libraries\n",
        "from tensorflow.examples.tutorials.mnist import input_data\n",
        "\n",
        "# Import Dataset ke variabel => Fashion_MNIST\n",
        "fashion_mnist = input_data.read_data_sets('data/fashion', one_hot=True)\n"
      ],
      "execution_count": 0,
      "outputs": [
        {
          "output_type": "stream",
          "text": [
            "WARNING:tensorflow:From <ipython-input-3-3697bd442026>:4: read_data_sets (from tensorflow.contrib.learn.python.learn.datasets.mnist) is deprecated and will be removed in a future version.\n",
            "Instructions for updating:\n",
            "Please use alternatives such as official/mnist/dataset.py from tensorflow/models.\n",
            "WARNING:tensorflow:From /usr/local/lib/python3.6/dist-packages/tensorflow_core/contrib/learn/python/learn/datasets/mnist.py:260: maybe_download (from tensorflow.contrib.learn.python.learn.datasets.base) is deprecated and will be removed in a future version.\n",
            "Instructions for updating:\n",
            "Please write your own downloading logic.\n",
            "WARNING:tensorflow:From /usr/local/lib/python3.6/dist-packages/tensorflow_core/contrib/learn/python/learn/datasets/mnist.py:262: extract_images (from tensorflow.contrib.learn.python.learn.datasets.mnist) is deprecated and will be removed in a future version.\n",
            "Instructions for updating:\n",
            "Please use tf.data to implement this functionality.\n",
            "Extracting data/fashion/train-images-idx3-ubyte.gz\n",
            "WARNING:tensorflow:From /usr/local/lib/python3.6/dist-packages/tensorflow_core/contrib/learn/python/learn/datasets/mnist.py:267: extract_labels (from tensorflow.contrib.learn.python.learn.datasets.mnist) is deprecated and will be removed in a future version.\n",
            "Instructions for updating:\n",
            "Please use tf.data to implement this functionality.\n",
            "Extracting data/fashion/train-labels-idx1-ubyte.gz\n",
            "WARNING:tensorflow:From /usr/local/lib/python3.6/dist-packages/tensorflow_core/contrib/learn/python/learn/datasets/mnist.py:110: dense_to_one_hot (from tensorflow.contrib.learn.python.learn.datasets.mnist) is deprecated and will be removed in a future version.\n",
            "Instructions for updating:\n",
            "Please use tf.one_hot on tensors.\n",
            "Extracting data/fashion/t10k-images-idx3-ubyte.gz\n",
            "Extracting data/fashion/t10k-labels-idx1-ubyte.gz\n",
            "WARNING:tensorflow:From /usr/local/lib/python3.6/dist-packages/tensorflow_core/contrib/learn/python/learn/datasets/mnist.py:290: DataSet.__init__ (from tensorflow.contrib.learn.python.learn.datasets.mnist) is deprecated and will be removed in a future version.\n",
            "Instructions for updating:\n",
            "Please use alternatives such as official/mnist/dataset.py from tensorflow/models.\n"
          ],
          "name": "stdout"
        }
      ]
    },
    {
      "cell_type": "markdown",
      "metadata": {
        "id": "6zF-uuKEqpvp",
        "colab_type": "text"
      },
      "source": [
        ".\n"
      ]
    },
    {
      "cell_type": "markdown",
      "metadata": {
        "id": "yJlwBHonqpNH",
        "colab_type": "text"
      },
      "source": [
        "### Memeriksa Data\n",
        "Memeriksa dimensi dan skala dataset yang akan kita gunakan."
      ]
    },
    {
      "cell_type": "code",
      "metadata": {
        "id": "JH6r3TVMYsjX",
        "colab_type": "code",
        "outputId": "9d1f4846-5c07-4d5e-e6e3-56a295ae5642",
        "colab": {
          "base_uri": "https://localhost:8080/",
          "height": 115
        }
      },
      "source": [
        "# Shapes dari Training set\n",
        "print(\"Training set (images) shape  : {shape}\".format(shape=fashion_mnist.train.images.shape))\n",
        "print(\"Training set (labels) shape  : {shape}\".format(shape=fashion_mnist.train.labels.shape))\n",
        "\n",
        "# Shape dari Validasi set\n",
        "print(\"Validasi set (images) shape  : {shape}\".format(shape=fashion_mnist.validation.images.shape))\n",
        "print(\"Validasi set (labels) shape  : {shape}\".format(shape=fashion_mnist.validation.labels.shape))\n",
        "\n",
        "# Shapes dari Test set\n",
        "print(\"Test set (images) shape      : {shape}\".format(shape=fashion_mnist.test.images.shape))\n",
        "print(\"Test set (labels) shape      : {shape}\".format(shape=fashion_mnist.test.labels.shape))"
      ],
      "execution_count": 0,
      "outputs": [
        {
          "output_type": "stream",
          "text": [
            "Training set (images) shape  : (55000, 784)\n",
            "Training set (labels) shape  : (55000, 10)\n",
            "Validasi set (images) shape  : (5000, 784)\n",
            "Validasi set (labels) shape  : (5000, 10)\n",
            "Test set (images) shape      : (10000, 784)\n",
            "Test set (labels) shape      : (10000, 10)\n"
          ],
          "name": "stdout"
        }
      ]
    },
    {
      "cell_type": "code",
      "metadata": {
        "id": "TqufwjAWfJ3D",
        "colab_type": "code",
        "colab": {}
      },
      "source": [
        "class_names = ['T-shirt/top', 'Trouser', 'Pullover', 'Dress', 'Coat',\n",
        "               'Sandal', 'Shirt', 'Sneaker', 'Bag', 'Ankle boot']"
      ],
      "execution_count": 0,
      "outputs": []
    },
    {
      "cell_type": "markdown",
      "metadata": {
        "id": "2E4qlaSuy63f",
        "colab_type": "text"
      },
      "source": [
        "."
      ]
    },
    {
      "cell_type": "markdown",
      "metadata": {
        "id": "juCG47ymy8UN",
        "colab_type": "text"
      },
      "source": [
        "### Visualisasi Awal\n"
      ]
    },
    {
      "cell_type": "code",
      "metadata": {
        "id": "cwaU7gO3m1bV",
        "colab_type": "code",
        "outputId": "37ed725c-0f94-4273-9cb2-df44be495cb1",
        "colab": {
          "base_uri": "https://localhost:8080/",
          "height": 282
        }
      },
      "source": [
        "import numpy as np\n",
        "\n",
        "fig, axes = plt.subplots(2, 5, figsize=(9,5))\n",
        "for img, label, ax in zip(fashion_mnist.train.images[0:20], np.argmax(fashion_mnist.train.labels[0:20], 1), axes.flat):\n",
        "  ax.set_title(class_names[label])\n",
        "  ax.imshow(img.reshape(28,28), cmap=plt.get_cmap('gray'))\n",
        "  ax.axis('off')\n",
        "plt.show()"
      ],
      "execution_count": 0,
      "outputs": [
        {
          "output_type": "display_data",
          "data": {
            "image/png": "[encoded data removed]",
            "text/plain": [
              "<Figure size 648x360 with 10 Axes>"
            ]
          },
          "metadata": {
            "tags": []
          }
        }
      ]
    },
    {
      "cell_type": "markdown",
      "metadata": {
        "id": "DIAlTYQ5rrE8",
        "colab_type": "text"
      },
      "source": [
        "Melihat gambar pertama dari data training\n",
        "Melihat gambar pertama dari data testing\n"
      ]
    },
    {
      "cell_type": "code",
      "metadata": {
        "id": "WPBrA4D84umj",
        "colab_type": "code",
        "outputId": "18384978-1b2a-4fd0-e23f-b9338b338c1c",
        "colab": {
          "base_uri": "https://localhost:8080/",
          "height": 333
        }
      },
      "source": [
        "plt.figure(figsize=[10,10])\n",
        "\n",
        "# Visualisasi dari image pertama pada data training\n",
        "plt.subplot(121)\n",
        "curr_img = np.reshape(fashion_mnist.train.images[0], (28,28))\n",
        "curr_lbl = np.argmax(fashion_mnist.train.labels[0,:])\n",
        "plt.imshow(curr_img, cmap='gray')\n",
        "plt.title(\"(Label: \" + str(class_names[curr_lbl]) + \")\")\n",
        "\n",
        "# Visualisasi first image pertama dari data testing\n",
        "plt.subplot(122)\n",
        "curr_imgs = np.reshape(fashion_mnist.test.images[0], (28,28))\n",
        "curr_lbls = np.argmax(fashion_mnist.test.labels[0,:])\n",
        "plt.imshow(curr_imgs, cmap='gray')\n",
        "plt.title(\"(Label: \" + str(class_names[curr_lbls]) + \")\")"
      ],
      "execution_count": 0,
      "outputs": [
        {
          "output_type": "execute_result",
          "data": {
            "text/plain": [
              "Text(0.5, 1.0, '(Label: Ankle boot)')"
            ]
          },
          "metadata": {
            "tags": []
          },
          "execution_count": 7
        },
        {
          "output_type": "display_data",
          "data": {
            "image/png": "[encoded data removed]",
            "text/plain": [
              "<Figure size 720x720 with 2 Axes>"
            ]
          },
          "metadata": {
            "tags": []
          }
        }
      ]
    },
    {
      "cell_type": "code",
      "metadata": {
        "id": "ecctT2FOjQUm",
        "colab_type": "code",
        "outputId": "5ed40fb8-08fe-498c-9f7d-f272f95b0f9a",
        "colab": {
          "base_uri": "https://localhost:8080/",
          "height": 1000
        }
      },
      "source": [
        "fashion_mnist.train.images[0]"
      ],
      "execution_count": 0,
      "outputs": [
        {
          "output_type": "execute_result",
          "data": {
            "text/plain": [
              "array([0.        , 0.        , 0.        , 0.        , 0.        ,\n",
              "       0.        , 0.        , 0.        , 0.        , 0.        ,\n",
              "       0.        , 0.        , 0.        , 0.        , 0.        ,\n",
              "       0.        , 0.        , 0.        , 0.        , 0.00392157,\n",
              "       0.        , 0.        , 0.        , 0.        , 0.        ,\n",
              "       0.        , 0.        , 0.        , 0.        , 0.        ,\n",
              "       0.        , 0.        , 0.        , 0.        , 0.        ,\n",
              "       0.        , 0.        , 0.        , 0.        , 0.17254902,\n",
              "       0.49803925, 0.7137255 , 0.7254902 , 0.6313726 , 0.47058827,\n",
              "       0.21568629, 0.        , 0.        , 0.        , 0.        ,\n",
              "       0.        , 0.        , 0.        , 0.        , 0.        ,\n",
              "       0.        , 0.        , 0.        , 0.        , 0.        ,\n",
              "       0.        , 0.        , 0.        , 0.        , 0.        ,\n",
              "       0.16470589, 0.77647066, 0.9843138 , 1.        , 0.9843138 ,\n",
              "       0.97647065, 0.9686275 , 1.        , 0.98823535, 0.83921576,\n",
              "       0.3921569 , 0.        , 0.        , 0.        , 0.        ,\n",
              "       0.        , 0.        , 0.        , 0.        , 0.        ,\n",
              "       0.        , 0.        , 0.        , 0.        , 0.        ,\n",
              "       0.00784314, 0.        , 0.        , 0.91372555, 0.98823535,\n",
              "       0.9294118 , 0.93725497, 0.9176471 , 0.9294118 , 0.9215687 ,\n",
              "       0.9294118 , 0.9294118 , 0.9960785 , 0.89019614, 0.        ,\n",
              "       0.        , 0.        , 0.        , 0.00392157, 0.        ,\n",
              "       0.        , 0.        , 0.        , 0.        , 0.        ,\n",
              "       0.        , 0.        , 0.00784314, 0.        , 0.        ,\n",
              "       0.0627451 , 0.8235295 , 0.882353  , 0.8431373 , 0.6862745 ,\n",
              "       0.85098046, 0.8470589 , 0.7568628 , 0.7686275 , 0.8862746 ,\n",
              "       0.86666673, 0.8196079 , 0.19607845, 0.        , 0.        ,\n",
              "       0.00784314, 0.        , 0.        , 0.        , 0.        ,\n",
              "       0.        , 0.        , 0.        , 0.        , 0.00784314,\n",
              "       0.        , 0.        , 0.7803922 , 0.8980393 , 0.909804  ,\n",
              "       0.90196085, 0.9607844 , 0.8000001 , 0.8588236 , 0.9921569 ,\n",
              "       0.9607844 , 0.8117648 , 0.7607844 , 0.8745099 , 0.9058824 ,\n",
              "       0.92549026, 0.9215687 , 0.        , 0.        , 0.01176471,\n",
              "       0.        , 0.        , 0.        , 0.        , 0.        ,\n",
              "       0.        , 0.        , 0.00392157, 0.        , 0.5372549 ,\n",
              "       0.9215687 , 0.8000001 , 0.8196079 , 0.78823537, 0.8196079 ,\n",
              "       0.9176471 , 0.74509805, 0.9176471 , 0.854902  , 0.8431373 ,\n",
              "       0.9333334 , 0.93725497, 0.8000001 , 0.7411765 , 0.87843144,\n",
              "       0.6039216 , 0.        , 0.        , 0.        , 0.        ,\n",
              "       0.        , 0.        , 0.        , 0.        , 0.        ,\n",
              "       0.        , 0.        , 0.7607844 , 0.78823537, 0.7843138 ,\n",
              "       0.8196079 , 0.79215693, 0.7568628 , 0.80392164, 0.7607844 ,\n",
              "       0.7176471 , 0.854902  , 0.9058824 , 0.7725491 , 0.6745098 ,\n",
              "       0.70980394, 0.7568628 , 0.80392164, 0.7803922 , 0.        ,\n",
              "       0.        , 0.        , 0.        , 0.        , 0.        ,\n",
              "       0.        , 0.        , 0.        , 0.        , 0.01176471,\n",
              "       0.8313726 , 0.7960785 , 0.7372549 , 0.7411765 , 0.7686275 ,\n",
              "       0.77647066, 0.77647066, 0.78823537, 0.7686275 , 0.85098046,\n",
              "       0.7019608 , 0.654902  , 0.7176471 , 0.85098046, 0.7725491 ,\n",
              "       0.79215693, 0.8588236 , 0.11764707, 0.        , 0.        ,\n",
              "       0.        , 0.        , 0.        , 0.        , 0.        ,\n",
              "       0.        , 0.        , 0.13333334, 0.882353  , 0.7843138 ,\n",
              "       0.7607844 , 0.74509805, 0.7372549 , 0.75294125, 0.7686275 ,\n",
              "       0.75294125, 0.6666667 , 0.79215693, 0.74509805, 0.78823537,\n",
              "       0.76470596, 0.7843138 , 0.78823537, 0.8196079 , 0.89019614,\n",
              "       0.19607845, 0.        , 0.        , 0.        , 0.        ,\n",
              "       0.        , 0.        , 0.        , 0.        , 0.        ,\n",
              "       0.26666668, 0.882353  , 0.8235295 , 0.82745105, 0.77647066,\n",
              "       0.75294125, 0.7686275 , 0.8000001 , 0.7686275 , 0.70980394,\n",
              "       0.8313726 , 0.7725491 , 0.76470596, 0.75294125, 0.8078432 ,\n",
              "       0.86274517, 0.8235295 , 0.8980393 , 0.3647059 , 0.        ,\n",
              "       0.        , 0.        , 0.        , 0.        , 0.        ,\n",
              "       0.        , 0.        , 0.        , 0.43529415, 0.8745099 ,\n",
              "       0.89019614, 0.9921569 , 0.8196079 , 0.7686275 , 0.8000001 ,\n",
              "       0.82745105, 0.8078432 , 0.7176471 , 0.8470589 , 0.8078432 ,\n",
              "       0.8235295 , 0.7960785 , 0.8431373 , 0.9568628 , 0.87843144,\n",
              "       0.89019614, 0.5882353 , 0.        , 0.        , 0.        ,\n",
              "       0.        , 0.        , 0.        , 0.        , 0.        ,\n",
              "       0.        , 0.54509807, 0.882353  , 0.87843144, 1.        ,\n",
              "       0.79215693, 0.8078432 , 0.8313726 , 0.8196079 , 0.82745105,\n",
              "       0.74509805, 0.8352942 , 0.79215693, 0.8117648 , 0.8078432 ,\n",
              "       0.8705883 , 1.        , 0.90196085, 0.86274517, 0.74509805,\n",
              "       0.        , 0.        , 0.        , 0.        , 0.        ,\n",
              "       0.        , 0.        , 0.        , 0.        , 0.7058824 ,\n",
              "       0.8862746 , 0.87843144, 1.        , 0.7803922 , 0.8000001 ,\n",
              "       0.8117648 , 0.83921576, 0.83921576, 0.74509805, 0.8470589 ,\n",
              "       0.8078432 , 0.7960785 , 0.80392164, 0.8588236 , 0.95294124,\n",
              "       0.87843144, 0.83921576, 0.9176471 , 0.        , 0.        ,\n",
              "       0.        , 0.        , 0.        , 0.        , 0.        ,\n",
              "       0.        , 0.        , 0.882353  , 0.8745099 , 0.8941177 ,\n",
              "       0.9960785 , 0.8196079 , 0.8078432 , 0.81568635, 0.8352942 ,\n",
              "       0.8235295 , 0.7490196 , 0.8431373 , 0.8117648 , 0.8000001 ,\n",
              "       0.81568635, 0.82745105, 0.97647065, 0.8862746 , 0.83921576,\n",
              "       1.        , 0.14901961, 0.        , 0.        , 0.        ,\n",
              "       0.        , 0.        , 0.        , 0.        , 0.        ,\n",
              "       0.9803922 , 0.909804  , 0.94117653, 0.93725497, 0.82745105,\n",
              "       0.7960785 , 0.8196079 , 0.80392164, 0.82745105, 0.7725491 ,\n",
              "       0.8431373 , 0.81568635, 0.81568635, 0.83921576, 0.8352942 ,\n",
              "       0.93725497, 0.9058824 , 0.8588236 , 1.        , 0.31764707,\n",
              "       0.        , 0.        , 0.        , 0.        , 0.        ,\n",
              "       0.        , 0.        , 0.        , 0.9725491 , 0.92549026,\n",
              "       0.9686275 , 0.94117653, 0.7960785 , 0.7843138 , 0.81568635,\n",
              "       0.8078432 , 0.83921576, 0.7568628 , 0.8352942 , 0.8313726 ,\n",
              "       0.81568635, 0.8313726 , 0.82745105, 0.95294124, 0.9490197 ,\n",
              "       0.882353  , 0.9960785 , 0.25882354, 0.        , 0.        ,\n",
              "       0.        , 0.        , 0.        , 0.        , 0.        ,\n",
              "       0.        , 0.9686275 , 0.90196085, 0.98823535, 0.8862746 ,\n",
              "       0.7803922 , 0.82745105, 0.79215693, 0.82745105, 0.8352942 ,\n",
              "       0.7137255 , 0.8352942 , 0.8313726 , 0.8078432 , 0.79215693,\n",
              "       0.8588236 , 0.8117648 , 0.9686275 , 0.8705883 , 0.9294118 ,\n",
              "       0.40784317, 0.        , 0.        , 0.        , 0.        ,\n",
              "       0.        , 0.        , 0.        , 0.03921569, 0.9568628 ,\n",
              "       0.8588236 , 0.9803922 , 0.80392164, 0.7803922 , 0.8196079 ,\n",
              "       0.79215693, 0.8196079 , 0.82745105, 0.7411765 , 0.83921576,\n",
              "       0.8078432 , 0.8235295 , 0.7843138 , 0.8313726 , 0.6039216 ,\n",
              "       0.94117653, 0.81568635, 0.8588236 , 0.54901963, 0.        ,\n",
              "       0.        , 0.        , 0.        , 0.        , 0.        ,\n",
              "       0.        , 0.08235294, 1.        , 0.8705883 , 0.9333334 ,\n",
              "       0.72156864, 0.8235295 , 0.75294125, 0.8078432 , 0.8196079 ,\n",
              "       0.8235295 , 0.7411765 , 0.8352942 , 0.82745105, 0.8196079 ,\n",
              "       0.75294125, 0.8941177 , 0.60784316, 0.8862746 , 0.9333334 ,\n",
              "       0.9450981 , 0.6509804 , 0.        , 0.        , 0.        ,\n",
              "       0.        , 0.        , 0.        , 0.        , 0.14509805,\n",
              "       0.9607844 , 0.8862746 , 0.9450981 , 0.5882353 , 0.7725491 ,\n",
              "       0.7411765 , 0.8000001 , 0.8196079 , 0.8235295 , 0.7176471 ,\n",
              "       0.8352942 , 0.8352942 , 0.78823537, 0.72156864, 0.8431373 ,\n",
              "       0.57254905, 0.8470589 , 0.92549026, 0.882353  , 0.6039216 ,\n",
              "       0.        , 0.        , 0.        , 0.        , 0.        ,\n",
              "       0.        , 0.        , 0.227451  , 0.93725497, 0.89019614,\n",
              "       1.        , 0.61960787, 0.7568628 , 0.76470596, 0.8000001 ,\n",
              "       0.8196079 , 0.8352942 , 0.7058824 , 0.8117648 , 0.85098046,\n",
              "       0.7803922 , 0.7607844 , 0.82745105, 0.61960787, 0.8588236 ,\n",
              "       0.92549026, 0.8470589 , 0.5921569 , 0.        , 0.        ,\n",
              "       0.        , 0.        , 0.        , 0.        , 0.        ,\n",
              "       0.26666668, 0.91372555, 0.8862746 , 0.95294124, 0.54509807,\n",
              "       0.7843138 , 0.7568628 , 0.80392164, 0.8235295 , 0.81568635,\n",
              "       0.7058824 , 0.80392164, 0.8313726 , 0.7960785 , 0.7686275 ,\n",
              "       0.8470589 , 0.6156863 , 0.7019608 , 1.        , 0.8470589 ,\n",
              "       0.60784316, 0.        , 0.        , 0.        , 0.        ,\n",
              "       0.        , 0.        , 0.        , 0.31764707, 0.882353  ,\n",
              "       0.87843144, 0.82745105, 0.5411765 , 0.8588236 , 0.7254902 ,\n",
              "       0.78823537, 0.8352942 , 0.8117648 , 0.7725491 , 0.8862746 ,\n",
              "       0.8313726 , 0.7843138 , 0.74509805, 0.8431373 , 0.7176471 ,\n",
              "       0.3529412 , 1.        , 0.82745105, 0.5764706 , 0.        ,\n",
              "       0.        , 0.        , 0.        , 0.        , 0.        ,\n",
              "       0.        , 0.35686275, 0.8235295 , 0.90196085, 0.61960787,\n",
              "       0.44705886, 0.80392164, 0.73333335, 0.81568635, 0.8196079 ,\n",
              "       0.8078432 , 0.7568628 , 0.8235295 , 0.82745105, 0.8000001 ,\n",
              "       0.76470596, 0.8000001 , 0.70980394, 0.09019608, 1.        ,\n",
              "       0.8352942 , 0.61960787, 0.        , 0.        , 0.        ,\n",
              "       0.        , 0.        , 0.        , 0.        , 0.34117648,\n",
              "       0.80392164, 0.909804  , 0.427451  , 0.6431373 , 1.        ,\n",
              "       0.83921576, 0.87843144, 0.8705883 , 0.8235295 , 0.7725491 ,\n",
              "       0.83921576, 0.882353  , 0.8705883 , 0.82745105, 0.86274517,\n",
              "       0.85098046, 0.        , 0.9176471 , 0.8470589 , 0.6627451 ,\n",
              "       0.        , 0.        , 0.        , 0.        , 0.        ,\n",
              "       0.        , 0.        , 0.36078432, 0.8352942 , 0.909804  ,\n",
              "       0.57254905, 0.01960784, 0.5254902 , 0.5921569 , 0.63529414,\n",
              "       0.6666667 , 0.7176471 , 0.7137255 , 0.6431373 , 0.6509804 ,\n",
              "       0.69803923, 0.63529414, 0.6117647 , 0.38431376, 0.        ,\n",
              "       0.94117653, 0.882353  , 0.8235295 , 0.        , 0.        ,\n",
              "       0.        , 0.        , 0.        , 0.        , 0.        ,\n",
              "       0.16862746, 0.6431373 , 0.8078432 , 0.5529412 , 0.        ,\n",
              "       0.        , 0.        , 0.        , 0.        , 0.        ,\n",
              "       0.        , 0.        , 0.        , 0.        , 0.        ,\n",
              "       0.        , 0.        , 0.        , 0.49803925, 0.4901961 ,\n",
              "       0.29803923, 0.        , 0.        , 0.        ], dtype=float32)"
            ]
          },
          "metadata": {
            "tags": []
          },
          "execution_count": 8
        }
      ]
    },
    {
      "cell_type": "markdown",
      "metadata": {
        "id": "QhbVYcGsylmv",
        "colab_type": "text"
      },
      "source": [
        "."
      ]
    },
    {
      "cell_type": "code",
      "metadata": {
        "id": "Bwbis8uQLNmJ",
        "colab_type": "code",
        "outputId": "a9243913-c413-4682-94ff-ece3b6d69f2c",
        "colab": {
          "base_uri": "https://localhost:8080/",
          "height": 33
        }
      },
      "source": [
        "type(fashion_mnist)"
      ],
      "execution_count": 0,
      "outputs": [
        {
          "output_type": "execute_result",
          "data": {
            "text/plain": [
              "tensorflow.contrib.learn.python.learn.datasets.base.Datasets"
            ]
          },
          "metadata": {
            "tags": []
          },
          "execution_count": 9
        }
      ]
    },
    {
      "cell_type": "markdown",
      "metadata": {
        "id": "Yh1pFT1NzhBx",
        "colab_type": "text"
      },
      "source": [
        "."
      ]
    },
    {
      "cell_type": "markdown",
      "metadata": {
        "id": "IGiCobGupGiF",
        "colab_type": "text"
      },
      "source": [
        "## Training"
      ]
    },
    {
      "cell_type": "markdown",
      "metadata": {
        "id": "9f5aOJwgzXy1",
        "colab_type": "text"
      },
      "source": [
        "### Memecah data\n"
      ]
    },
    {
      "cell_type": "markdown",
      "metadata": {
        "id": "CJFrliy_r3FY",
        "colab_type": "text"
      },
      "source": [
        "Split Data dan mereshape nya"
      ]
    },
    {
      "cell_type": "code",
      "metadata": {
        "id": "PcrheOmK6mlU",
        "colab_type": "code",
        "outputId": "99ad65e8-1822-4cf0-8b94-dde85a51f8db",
        "colab": {
          "base_uri": "https://localhost:8080/",
          "height": 33
        }
      },
      "source": [
        "# Reshape training and testing image for input\n",
        "train_X = fashion_mnist.train.images.reshape(-1, 28, 28, 1)\n",
        "test_X = fashion_mnist.test.images.reshape(-1,28,28,1)\n",
        "train_X = train_X.astype('float32') / 255\n",
        "test_X = test_X.astype('float32') / 255\n",
        "train_X.shape, test_X.shape"
      ],
      "execution_count": 0,
      "outputs": [
        {
          "output_type": "execute_result",
          "data": {
            "text/plain": [
              "((55000, 28, 28, 1), (10000, 28, 28, 1))"
            ]
          },
          "metadata": {
            "tags": []
          },
          "execution_count": 10
        }
      ]
    },
    {
      "cell_type": "code",
      "metadata": {
        "id": "Jtl3--mD61zB",
        "colab_type": "code",
        "outputId": "5f8aeb21-dbb1-4492-ecff-a7f8cd79cadf",
        "colab": {
          "base_uri": "https://localhost:8080/",
          "height": 33
        }
      },
      "source": [
        "# Reshape training and testing image for output\n",
        "train_y = fashion_mnist.train.labels\n",
        "test_y = fashion_mnist.test.labels\n",
        "train_y.shape, test_y.shape"
      ],
      "execution_count": 0,
      "outputs": [
        {
          "output_type": "execute_result",
          "data": {
            "text/plain": [
              "((55000, 10), (10000, 10))"
            ]
          },
          "metadata": {
            "tags": []
          },
          "execution_count": 11
        }
      ]
    },
    {
      "cell_type": "markdown",
      "metadata": {
        "id": "m6J2_eetzi68",
        "colab_type": "text"
      },
      "source": [
        "### Set parameter dan Modelling\n",
        "Membuat *Parameter* dan melakukan modeling"
      ]
    },
    {
      "cell_type": "code",
      "metadata": {
        "id": "ZJaF37fO-STF",
        "colab_type": "code",
        "colab": {}
      },
      "source": [
        "training_iters = 50 \n",
        "learning_rate = 0.001 \n",
        "batch_size = 128\n",
        "\n",
        "### PARAMETER PERTAMA\n",
        "# MNIST data input (img shape: 28*28)\n",
        "n_input = 28\n",
        "\n",
        "# MNIST total class (0-9 digits)\n",
        "n_classes = 10"
      ],
      "execution_count": 0,
      "outputs": []
    },
    {
      "cell_type": "code",
      "metadata": {
        "id": "hSoiUg73YGbQ",
        "colab_type": "code",
        "colab": {}
      },
      "source": [
        "#semua placeholders  bertype float\n",
        "x = tf.placeholder(\"float\", [None, 28,28,1])\n",
        "y = tf.placeholder(\"float\", [None, n_classes])"
      ],
      "execution_count": 0,
      "outputs": []
    },
    {
      "cell_type": "code",
      "metadata": {
        "id": "Cydzo0cGYHDD",
        "colab_type": "code",
        "colab": {}
      },
      "source": [
        "def conv2d(x, W, b, strides=1):\n",
        "    # Conv2D wrapper, dengan bias dan activation nya meggunakan RELU\n",
        "    x = tf.nn.conv2d(x, W, strides=[1, strides, strides, 1], padding='SAME')\n",
        "    x = tf.nn.bias_add(x, b)\n",
        "    return tf.nn.relu(x) \n",
        "\n",
        "def maxpool2d(x, k=2):\n",
        "    return tf.nn.max_pool(x, ksize=[1, k, k, 1], strides=[1, k, k, 1],padding='SAME')"
      ],
      "execution_count": 0,
      "outputs": []
    },
    {
      "cell_type": "markdown",
      "metadata": {
        "id": "h03r-tlx2ERe",
        "colab_type": "text"
      },
      "source": [
        "."
      ]
    },
    {
      "cell_type": "markdown",
      "metadata": {
        "id": "Tt_egYaD11ea",
        "colab_type": "text"
      },
      "source": [
        "Mendefenisiikan variabel weights dan bias  "
      ]
    },
    {
      "cell_type": "code",
      "metadata": {
        "id": "TWj9weETYXG7",
        "colab_type": "code",
        "outputId": "ebbf8077-7c9b-4bf1-87b8-0773e8aee365",
        "colab": {
          "base_uri": "https://localhost:8080/",
          "height": 147
        }
      },
      "source": [
        "weights = {\n",
        "    'wc1': tf.get_variable('W0', shape=(3,3,1,32), initializer=tf.contrib.layers.xavier_initializer()), \n",
        "    'wc2': tf.get_variable('W1', shape=(3,3,32,64), initializer=tf.contrib.layers.xavier_initializer()), \n",
        "    'wc3': tf.get_variable('W2', shape=(3,3,64,128), initializer=tf.contrib.layers.xavier_initializer()), \n",
        "    'wd1': tf.get_variable('W3', shape=(4*4*128,128), initializer=tf.contrib.layers.xavier_initializer()), \n",
        "    'out': tf.get_variable('W6', shape=(128,n_classes), initializer=tf.contrib.layers.xavier_initializer()), \n",
        "}\n",
        "biases = {\n",
        "    'bc1': tf.get_variable('B0', shape=(32), initializer=tf.contrib.layers.xavier_initializer()),\n",
        "    'bc2': tf.get_variable('B1', shape=(64), initializer=tf.contrib.layers.xavier_initializer()),\n",
        "    'bc3': tf.get_variable('B2', shape=(128), initializer=tf.contrib.layers.xavier_initializer()),\n",
        "    'bd1': tf.get_variable('B3', shape=(128), initializer=tf.contrib.layers.xavier_initializer()),\n",
        "    'out': tf.get_variable('B4', shape=(10), initializer=tf.contrib.layers.xavier_initializer()),\n",
        "}"
      ],
      "execution_count": 0,
      "outputs": [
        {
          "output_type": "stream",
          "text": [
            "WARNING:tensorflow:\n",
            "The TensorFlow contrib module will not be included in TensorFlow 2.0.\n",
            "For more information, please see:\n",
            "  * https://github.com/tensorflow/community/blob/master/rfcs/20180907-contrib-sunset.md\n",
            "  * https://github.com/tensorflow/addons\n",
            "  * https://github.com/tensorflow/io (for I/O related ops)\n",
            "If you depend on functionality not listed there, please file an issue.\n",
            "\n"
          ],
          "name": "stdout"
        }
      ]
    },
    {
      "cell_type": "markdown",
      "metadata": {
        "id": "AVySreSe4mGx",
        "colab_type": "text"
      },
      "source": [
        "\n",
        "Mendefinisikan architecture"
      ]
    },
    {
      "cell_type": "code",
      "metadata": {
        "id": "XlfSJZ84YZ5s",
        "colab_type": "code",
        "colab": {}
      },
      "source": [
        "def conv_net(x, weights, biases):  \n",
        "\n",
        "    # memanggil fungsi conv2d, gambar input x, bobot wc1 dan bias bc1.\n",
        "    conv1 = conv2d(x, weights['wc1'], biases['bc1'])\n",
        "    # Max Pooling (down-sampling), mengambil max value dari matrix 2*2 dan menghasilkaln outputs  14*14 matrix.\n",
        "    conv1 = maxpool2d(conv1, k=2)\n",
        "\n",
        "    # Convolution Layer\n",
        "    # memanggil fungsi conv2d dan input image x, weights wc2 and bias bc2.\n",
        "    conv2 = conv2d(conv1, weights['wc2'], biases['bc2'])\n",
        "    # Max Pooling (down-sampling), tmengambil max value dari matrix 2*2 dan menghasilkaln outputs 7*7 matrix.\n",
        "    conv2 = maxpool2d(conv2, k=2)\n",
        "\n",
        "    conv3 = conv2d(conv2, weights['wc3'], biases['bc3'])\n",
        "    # Max Pooling (down-sampling), mengambil max value dari matrix 2*2  dan menghasilkaln outputs 4*4 matrix.\n",
        "    conv3 = maxpool2d(conv3, k=2)\n",
        "\n",
        "\n",
        "\n",
        "    # Fully connected layer\n",
        "    # Reshape conv2 output kedalam fit fully connected layer input\n",
        "    fc1 = tf.reshape(conv3, [-1, weights['wd1'].get_shape().as_list()[0]])\n",
        "    fc1 = tf.add(tf.matmul(fc1, weights['wd1']), biases['bd1'])\n",
        "    fc1 = tf.nn.relu(fc1)\n",
        "\n",
        "    # Output, class prediksi\n",
        "    # fully connected layer dengan weights dan bias. \n",
        "    out = tf.add(tf.matmul(fc1, weights['out']), biases['out'])\n",
        "    return out"
      ],
      "execution_count": 0,
      "outputs": []
    },
    {
      "cell_type": "markdown",
      "metadata": {
        "id": "_fqshRjU6P1F",
        "colab_type": "text"
      },
      "source": [
        "."
      ]
    },
    {
      "cell_type": "markdown",
      "metadata": {
        "id": "9Dn3ZqoF6bCp",
        "colab_type": "text"
      },
      "source": [
        "### Loss and Optimizer"
      ]
    },
    {
      "cell_type": "markdown",
      "metadata": {
        "id": "07gVheup6PXf",
        "colab_type": "text"
      },
      "source": [
        "Modelling dengan memanggil fungsi conv_net () dengan memasukkan input x, weight, dan bias.\n",
        "(Prediksi)"
      ]
    },
    {
      "cell_type": "code",
      "metadata": {
        "id": "no1EcQySYcjR",
        "colab_type": "code",
        "outputId": "933d7553-2ad5-4ea1-e1b8-7edff0a182aa",
        "colab": {
          "base_uri": "https://localhost:8080/",
          "height": 167
        }
      },
      "source": [
        "pred = conv_net(x, weights, biases)\n",
        "\n",
        "cost = tf.reduce_mean(tf.nn.softmax_cross_entropy_with_logits(logits=pred, labels=y))\n",
        "\n",
        "optimizer = tf.train.AdamOptimizer(learning_rate=learning_rate).minimize(cost)"
      ],
      "execution_count": 0,
      "outputs": [
        {
          "output_type": "stream",
          "text": [
            "WARNING:tensorflow:From <ipython-input-17-989f812044df>:3: softmax_cross_entropy_with_logits (from tensorflow.python.ops.nn_ops) is deprecated and will be removed in a future version.\n",
            "Instructions for updating:\n",
            "\n",
            "Future major versions of TensorFlow will allow gradients to flow\n",
            "into the labels input on backprop by default.\n",
            "\n",
            "See `tf.nn.softmax_cross_entropy_with_logits_v2`.\n",
            "\n"
          ],
          "name": "stdout"
        }
      ]
    },
    {
      "cell_type": "markdown",
      "metadata": {
        "id": "VUUyLMaq7b7U",
        "colab_type": "text"
      },
      "source": [
        "."
      ]
    },
    {
      "cell_type": "markdown",
      "metadata": {
        "id": "LtdaUYvZ7gEU",
        "colab_type": "text"
      },
      "source": [
        "### Predeksi / Mengevaluasi Model"
      ]
    },
    {
      "cell_type": "code",
      "metadata": {
        "id": "jAXh4LmqYh7I",
        "colab_type": "code",
        "colab": {}
      },
      "source": [
        "# Memprediksi apakah image prediksi sama dengan image asli\n",
        "correct_prediction = tf.equal(tf.argmax(pred, 1), tf.argmax(y, 1))\n",
        "\n",
        "# Menghitung akurasi.\n",
        "accuracy = tf.reduce_mean(tf.cast(correct_prediction, tf.float32))"
      ],
      "execution_count": 0,
      "outputs": []
    },
    {
      "cell_type": "code",
      "metadata": {
        "id": "8pgM-n1OYwnz",
        "colab_type": "code",
        "colab": {}
      },
      "source": [
        "# Inisialisasi variabel\n",
        "init = tf.global_variables_initializer()"
      ],
      "execution_count": 0,
      "outputs": []
    },
    {
      "cell_type": "markdown",
      "metadata": {
        "id": "SRFCKm7DhIo6",
        "colab_type": "text"
      },
      "source": [
        "### Training dan Testing the Model"
      ]
    },
    {
      "cell_type": "code",
      "metadata": {
        "id": "knnsk_FpY1_c",
        "colab_type": "code",
        "outputId": "2a6196e1-91a1-44e9-f359-48f8215e8816",
        "colab": {
          "base_uri": "https://localhost:8080/",
          "height": 1000
        }
      },
      "source": [
        "with tf.Session() as sess:\n",
        "    sess.run(init) \n",
        "    train_loss = []\n",
        "    test_loss = []\n",
        "    train_accuracy = []\n",
        "    test_accuracy = []\n",
        "    summary_writer = tf.summary.FileWriter('./Output', sess.graph)\n",
        "    for i in range(training_iters):\n",
        "        for batch in range(len(train_X)//batch_size):\n",
        "            batch_x = train_X[batch*batch_size:min((batch+1)*batch_size,len(train_X))]\n",
        "            batch_y = train_y[batch*batch_size:min((batch+1)*batch_size,len(train_y))]    \n",
        "            # Run optimization op (backprop).\n",
        "                # Menghitung batch loss and accuracy\n",
        "            opt = sess.run(optimizer, feed_dict={x: batch_x,\n",
        "                                                              y: batch_y})\n",
        "            loss, acc = sess.run([cost, accuracy], feed_dict={x: batch_x,\n",
        "                                                              y: batch_y})\n",
        "        print(\"Iter \" + str(i) + \", Loss= \" + \\\n",
        "                      \"{:.6f}\".format(loss) + \", Training Accuracy= \" + \\\n",
        "                      \"{:.5f}\".format(acc))\n",
        "        print(\"Optimization Finished!\")\n",
        "\n",
        "        # Menghitu accuracy untuk  10000 mnist test images\n",
        "        test_acc,valid_loss = sess.run([accuracy,cost], feed_dict={x: test_X,y : test_y})\n",
        "        train_loss.append(loss)\n",
        "        test_loss.append(valid_loss)\n",
        "        train_accuracy.append(acc)\n",
        "        test_accuracy.append(test_acc)\n",
        "        print(\"Testing Accuracy:\",\"{:.5f}\".format(test_acc))\n",
        "    summary_writer.close()"
      ],
      "execution_count": 0,
      "outputs": [
        {
          "output_type": "stream",
          "text": [
            "Iter 0, Loss= 0.878659, Training Accuracy= 0.64844\n",
            "Optimization Finished!\n",
            "Testing Accuracy: 0.65610\n",
            "Iter 1, Loss= 0.592704, Training Accuracy= 0.77344\n",
            "Optimization Finished!\n",
            "Testing Accuracy: 0.73650\n",
            "Iter 2, Loss= 0.478201, Training Accuracy= 0.80469\n",
            "Optimization Finished!\n",
            "Testing Accuracy: 0.78140\n",
            "Iter 3, Loss= 0.419111, Training Accuracy= 0.82812\n",
            "Optimization Finished!\n",
            "Testing Accuracy: 0.80880\n",
            "Iter 4, Loss= 0.381368, Training Accuracy= 0.85156\n",
            "Optimization Finished!\n",
            "Testing Accuracy: 0.82390\n",
            "Iter 5, Loss= 0.367318, Training Accuracy= 0.87500\n",
            "Optimization Finished!\n",
            "Testing Accuracy: 0.83320\n",
            "Iter 6, Loss= 0.367451, Training Accuracy= 0.86719\n",
            "Optimization Finished!\n",
            "Testing Accuracy: 0.83920\n",
            "Iter 7, Loss= 0.358864, Training Accuracy= 0.87500\n",
            "Optimization Finished!\n",
            "Testing Accuracy: 0.84580\n",
            "Iter 8, Loss= 0.353694, Training Accuracy= 0.86719\n",
            "Optimization Finished!\n",
            "Testing Accuracy: 0.85050\n",
            "Iter 9, Loss= 0.347797, Training Accuracy= 0.87500\n",
            "Optimization Finished!\n",
            "Testing Accuracy: 0.85260\n",
            "Iter 10, Loss= 0.332257, Training Accuracy= 0.87500\n",
            "Optimization Finished!\n",
            "Testing Accuracy: 0.85580\n",
            "Iter 11, Loss= 0.321343, Training Accuracy= 0.89062\n",
            "Optimization Finished!\n",
            "Testing Accuracy: 0.85870\n",
            "Iter 12, Loss= 0.316786, Training Accuracy= 0.88281\n",
            "Optimization Finished!\n",
            "Testing Accuracy: 0.85880\n",
            "Iter 13, Loss= 0.306707, Training Accuracy= 0.89062\n",
            "Optimization Finished!\n",
            "Testing Accuracy: 0.86080\n",
            "Iter 14, Loss= 0.290771, Training Accuracy= 0.90625\n",
            "Optimization Finished!\n",
            "Testing Accuracy: 0.86010\n",
            "Iter 15, Loss= 0.282198, Training Accuracy= 0.90625\n",
            "Optimization Finished!\n",
            "Testing Accuracy: 0.86320\n",
            "Iter 16, Loss= 0.276276, Training Accuracy= 0.89844\n",
            "Optimization Finished!\n",
            "Testing Accuracy: 0.86380\n",
            "Iter 17, Loss= 0.261339, Training Accuracy= 0.89844\n",
            "Optimization Finished!\n",
            "Testing Accuracy: 0.86730\n",
            "Iter 18, Loss= 0.247248, Training Accuracy= 0.89844\n",
            "Optimization Finished!\n",
            "Testing Accuracy: 0.87060\n",
            "Iter 19, Loss= 0.250057, Training Accuracy= 0.89062\n",
            "Optimization Finished!\n",
            "Testing Accuracy: 0.87410\n",
            "Iter 20, Loss= 0.245469, Training Accuracy= 0.91406\n",
            "Optimization Finished!\n",
            "Testing Accuracy: 0.87600\n",
            "Iter 21, Loss= 0.245050, Training Accuracy= 0.91406\n",
            "Optimization Finished!\n",
            "Testing Accuracy: 0.88050\n",
            "Iter 22, Loss= 0.229641, Training Accuracy= 0.90625\n",
            "Optimization Finished!\n",
            "Testing Accuracy: 0.87960\n",
            "Iter 23, Loss= 0.220887, Training Accuracy= 0.91406\n",
            "Optimization Finished!\n",
            "Testing Accuracy: 0.88080\n",
            "Iter 24, Loss= 0.221083, Training Accuracy= 0.90625\n",
            "Optimization Finished!\n",
            "Testing Accuracy: 0.88070\n",
            "Iter 25, Loss= 0.216728, Training Accuracy= 0.92188\n",
            "Optimization Finished!\n",
            "Testing Accuracy: 0.87920\n",
            "Iter 26, Loss= 0.205665, Training Accuracy= 0.92969\n",
            "Optimization Finished!\n",
            "Testing Accuracy: 0.87800\n",
            "Iter 27, Loss= 0.201919, Training Accuracy= 0.93750\n",
            "Optimization Finished!\n",
            "Testing Accuracy: 0.87670\n",
            "Iter 28, Loss= 0.205187, Training Accuracy= 0.93750\n",
            "Optimization Finished!\n",
            "Testing Accuracy: 0.87500\n",
            "Iter 29, Loss= 0.190869, Training Accuracy= 0.93750\n",
            "Optimization Finished!\n",
            "Testing Accuracy: 0.87920\n",
            "Iter 30, Loss= 0.190117, Training Accuracy= 0.93750\n",
            "Optimization Finished!\n",
            "Testing Accuracy: 0.87970\n",
            "Iter 31, Loss= 0.185310, Training Accuracy= 0.92969\n",
            "Optimization Finished!\n",
            "Testing Accuracy: 0.88190\n",
            "Iter 32, Loss= 0.184651, Training Accuracy= 0.93750\n",
            "Optimization Finished!\n",
            "Testing Accuracy: 0.88310\n",
            "Iter 33, Loss= 0.196534, Training Accuracy= 0.92969\n",
            "Optimization Finished!\n",
            "Testing Accuracy: 0.88150\n",
            "Iter 34, Loss= 0.193286, Training Accuracy= 0.92969\n",
            "Optimization Finished!\n",
            "Testing Accuracy: 0.88070\n",
            "Iter 35, Loss= 0.190457, Training Accuracy= 0.92969\n",
            "Optimization Finished!\n",
            "Testing Accuracy: 0.88320\n",
            "Iter 36, Loss= 0.184153, Training Accuracy= 0.92969\n",
            "Optimization Finished!\n",
            "Testing Accuracy: 0.88390\n",
            "Iter 37, Loss= 0.186409, Training Accuracy= 0.91406\n",
            "Optimization Finished!\n",
            "Testing Accuracy: 0.88220\n",
            "Iter 38, Loss= 0.181811, Training Accuracy= 0.92969\n",
            "Optimization Finished!\n",
            "Testing Accuracy: 0.88290\n",
            "Iter 39, Loss= 0.177458, Training Accuracy= 0.92188\n",
            "Optimization Finished!\n",
            "Testing Accuracy: 0.88420\n",
            "Iter 40, Loss= 0.186921, Training Accuracy= 0.91406\n",
            "Optimization Finished!\n",
            "Testing Accuracy: 0.88320\n",
            "Iter 41, Loss= 0.179133, Training Accuracy= 0.92188\n",
            "Optimization Finished!\n",
            "Testing Accuracy: 0.88090\n",
            "Iter 42, Loss= 0.169714, Training Accuracy= 0.92969\n",
            "Optimization Finished!\n",
            "Testing Accuracy: 0.88370\n",
            "Iter 43, Loss= 0.166978, Training Accuracy= 0.92188\n",
            "Optimization Finished!\n",
            "Testing Accuracy: 0.88280\n",
            "Iter 44, Loss= 0.169349, Training Accuracy= 0.92969\n",
            "Optimization Finished!\n",
            "Testing Accuracy: 0.88540\n",
            "Iter 45, Loss= 0.173243, Training Accuracy= 0.92969\n",
            "Optimization Finished!\n",
            "Testing Accuracy: 0.88600\n",
            "Iter 46, Loss= 0.160168, Training Accuracy= 0.92969\n",
            "Optimization Finished!\n",
            "Testing Accuracy: 0.88420\n",
            "Iter 47, Loss= 0.164889, Training Accuracy= 0.94531\n",
            "Optimization Finished!\n",
            "Testing Accuracy: 0.88510\n",
            "Iter 48, Loss= 0.149968, Training Accuracy= 0.93750\n",
            "Optimization Finished!\n",
            "Testing Accuracy: 0.88620\n",
            "Iter 49, Loss= 0.141204, Training Accuracy= 0.95312\n",
            "Optimization Finished!\n",
            "Testing Accuracy: 0.88640\n"
          ],
          "name": "stdout"
        }
      ]
    },
    {
      "cell_type": "markdown",
      "metadata": {
        "id": "VpUfawagpZx8",
        "colab_type": "text"
      },
      "source": [
        "."
      ]
    },
    {
      "cell_type": "markdown",
      "metadata": {
        "id": "QKudlIMQpZFp",
        "colab_type": "text"
      },
      "source": [
        "## Evaluation"
      ]
    },
    {
      "cell_type": "markdown",
      "metadata": {
        "id": "myLrjOFksae5",
        "colab_type": "text"
      },
      "source": [
        "### Accuracy"
      ]
    },
    {
      "cell_type": "code",
      "metadata": {
        "id": "h79zn5s6p5Gc",
        "colab_type": "code",
        "outputId": "1281241a-ecef-4270-dbd9-0ee44515d7ce",
        "colab": {
          "base_uri": "https://localhost:8080/",
          "height": 66
        }
      },
      "source": [
        "print(\"Testing Accuracy  :\",\"{:.5f}\".format(test_acc))\n",
        "print(\"Training Accuracy :\",\"{:.5f}\".format(acc))\n",
        "print(\"Loss Accuracy     :\",\"{:.5f}\".format(loss))"
      ],
      "execution_count": 0,
      "outputs": [
        {
          "output_type": "stream",
          "text": [
            "Testing Accuracy  : 0.88640\n",
            "Training Accuracy : 0.95312\n",
            "Loss Accuracy     : 0.14120\n"
          ],
          "name": "stdout"
        }
      ]
    },
    {
      "cell_type": "markdown",
      "metadata": {
        "id": "-ukGbu7fpYxr",
        "colab_type": "text"
      },
      "source": [
        "### Visualisasi Hasil"
      ]
    },
    {
      "cell_type": "code",
      "metadata": {
        "id": "EG4Gl5s38AQz",
        "colab_type": "code",
        "outputId": "35a26622-7635-41be-8802-8b6c2a4a503c",
        "colab": {
          "base_uri": "https://localhost:8080/",
          "height": 316
        }
      },
      "source": [
        "# Visualisasi dari Test dan Traning Loss\n",
        "plt.plot(range(len(train_loss)), train_loss, 'b', label='Training loss')\n",
        "plt.plot(range(len(train_loss)), test_loss, 'r', label='Test loss')\n",
        "plt.title('Training and Test loss')\n",
        "plt.xlabel('Epochs ',fontsize=16)\n",
        "plt.ylabel('Loss',fontsize=16)\n",
        "plt.legend()\n",
        "plt.figure()\n",
        "plt.show()"
      ],
      "execution_count": 0,
      "outputs": [
        {
          "output_type": "display_data",
          "data": {
            "image/png": "[encoded data removed]",
            "text/plain": [
              "<Figure size 432x288 with 1 Axes>"
            ]
          },
          "metadata": {
            "tags": []
          }
        },
        {
          "output_type": "display_data",
          "data": {
            "text/plain": [
              "<Figure size 432x288 with 0 Axes>"
            ]
          },
          "metadata": {
            "tags": []
          }
        }
      ]
    },
    {
      "cell_type": "code",
      "metadata": {
        "id": "4hbN3hpF8TBs",
        "colab_type": "code",
        "outputId": "4d837890-d2a0-4346-ec87-806fef338667",
        "colab": {
          "base_uri": "https://localhost:8080/",
          "height": 316
        }
      },
      "source": [
        "# Visualisasi dari Accuracy Training dan Test\n",
        "plt.plot(range(len(train_loss)), train_accuracy, 'b', label='Training Accuracy')\n",
        "plt.plot(range(len(train_loss)), test_accuracy, 'r', label='Test Accuracy')\n",
        "plt.title('Training and Test Accuracy')\n",
        "plt.xlabel('Epochs ',fontsize=16)\n",
        "plt.ylabel('Loss',fontsize=16)\n",
        "plt.legend()\n",
        "plt.figure()\n",
        "plt.show()"
      ],
      "execution_count": 0,
      "outputs": [
        {
          "output_type": "display_data",
          "data": {
            "image/png": "[encoded data removed]",
            "text/plain": [
              "<Figure size 432x288 with 1 Axes>"
            ]
          },
          "metadata": {
            "tags": []
          }
        },
        {
          "output_type": "display_data",
          "data": {
            "text/plain": [
              "<Figure size 432x288 with 0 Axes>"
            ]
          },
          "metadata": {
            "tags": []
          }
        }
      ]
    },
    {
      "cell_type": "code",
      "metadata": {
        "id": "5OzyzR3dNc2S",
        "colab_type": "code",
        "colab": {}
      },
      "source": [
        ""
      ],
      "execution_count": 0,
      "outputs": []
    },
    {
      "cell_type": "code",
      "metadata": {
        "id": "khyIdpWnN4Oe",
        "colab_type": "code",
        "colab": {}
      },
      "source": [
        ""
      ],
      "execution_count": 0,
      "outputs": []
    }
  ]
}