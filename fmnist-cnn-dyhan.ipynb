{
  "nbformat": 4,
  "nbformat_minor": 0,
  "metadata": {
    "colab": {
      "name": "indahdyhanpandufirda - project deeplearning.ipynb",
      "provenance": [],
      "collapsed_sections": [],
      "toc_visible": true
    },
    "kernelspec": {
      "name": "python3",
      "display_name": "Python 3"
    },
    "accelerator": "GPU"
  },
  "cells": [
    {
      "cell_type": "markdown",
      "metadata": {
        "id": "L1KCMhzpuF5d",
        "colab_type": "text"
      },
      "source": [
        "."
      ]
    },
    {
      "cell_type": "markdown",
      "metadata": {
        "colab_type": "text",
        "id": "QfMx4U_ouJUd"
      },
      "source": [
        "# Klasifikasi Pakaian dan Aksesoris F mnist dengan menggunakan Metode CNN"
      ]
    },
    {
      "cell_type": "markdown",
      "metadata": {
        "colab_type": "text",
        "id": "2uMCXGCduLBf"
      },
      "source": [
        "."
      ]
    },
    {
      "cell_type": "markdown",
      "metadata": {
        "id": "GZ18sMqA95EL",
        "colab_type": "text"
      },
      "source": [
        "## Mengimport Library yang di perlukan"
      ]
    },
    {
      "cell_type": "code",
      "metadata": {
        "id": "AUo25igbTtPC",
        "colab_type": "code",
        "outputId": "a3d407d5-665e-4813-f739-4fa6ea1d71dc",
        "colab": {
          "base_uri": "https://localhost:8080/",
          "height": 34
        }
      },
      "source": [
        "from __future__ import absolute_import, division, print_function, unicode_literals\n",
        "\n",
        "# Mengimport Library TensorFlow dan tf.keras\n",
        "import tensorflow as tf\n",
        "from tensorflow import keras\n",
        "\n",
        "# Import Pandas untuk data manipulasi dataframes\n",
        "import pandas as pd\n",
        "\n",
        "#Import Numpy untuk kalkulasi / perhitungan\n",
        "import numpy as np\n",
        "\n",
        "# Import Warnings \n",
        "import warnings\n",
        "warnings.filterwarnings('ignore')\n",
        "\n",
        "# Import matplotlib untuk visualisasi data\n",
        "import matplotlib.pyplot as plt\n",
        "\n",
        "#Import train_test_split dari scikit library\n",
        "from sklearn.model_selection import train_test_split\n",
        "\n",
        "print(tf.__version__)"
      ],
      "execution_count": 0,
      "outputs": [
        {
          "output_type": "stream",
          "text": [
            "1.15.0\n"
          ],
          "name": "stdout"
        }
      ]
    },
    {
      "cell_type": "markdown",
      "metadata": {
        "id": "9Bj2W8Aaoto4",
        "colab_type": "text"
      },
      "source": [
        "."
      ]
    },
    {
      "cell_type": "markdown",
      "metadata": {
        "id": "1ONNhSeAkpI-",
        "colab_type": "text"
      },
      "source": [
        "\n",
        "### Download Dataset\n"
      ]
    },
    {
      "cell_type": "code",
      "metadata": {
        "id": "5PVZKliFWi2u",
        "colab_type": "code",
        "outputId": "5a1c72be-695d-44bd-cec8-8c7f9d0efbb2",
        "colab": {
          "base_uri": "https://localhost:8080/",
          "height": 817
        }
      },
      "source": [
        "!mkdir data/fashion\n",
        "!wget -O data/fashion/train-images-idx3-ubyte.gz http://fashion-mnist.s3-website.eu-central-1.amazonaws.com/train-images-idx3-ubyte.gz\n",
        "!wget -O data/fashion/train-labels-idx1-ubyte.gz http://fashion-mnist.s3-website.eu-central-1.amazonaws.com/train-labels-idx1-ubyte.gz\n",
        "!wget -O data/fashion/t10k-images-idx3-ubyte.gz http://fashion-mnist.s3-website.eu-central-1.amazonaws.com/t10k-images-idx3-ubyte.gz\n",
        "!wget -O data/fashion/t10k-labels-idx1-ubyte.gz http://fashion-mnist.s3-website.eu-central-1.amazonaws.com/t10k-labels-idx1-ubyte.gz"
      ],
      "execution_count": 0,
      "outputs": [
        {
          "output_type": "stream",
          "text": [
            "mkdir: cannot create directory ‘data/fashion’: File exists\n",
            "--2019-11-13 07:30:14--  http://fashion-mnist.s3-website.eu-central-1.amazonaws.com/train-images-idx3-ubyte.gz\n",
            "Resolving fashion-mnist.s3-website.eu-central-1.amazonaws.com (fashion-mnist.s3-website.eu-central-1.amazonaws.com)... 52.219.72.50\n",
            "Connecting to fashion-mnist.s3-website.eu-central-1.amazonaws.com (fashion-mnist.s3-website.eu-central-1.amazonaws.com)|52.219.72.50|:80... connected.\n",
            "HTTP request sent, awaiting response... 200 OK\n",
            "Length: 26421880 (25M) [binary/octet-stream]\n",
            "Saving to: ‘data/fashion/train-images-idx3-ubyte.gz’\n",
            "\n",
            "data/fashion/train- 100%[===================>]  25.20M  12.1MB/s    in 2.1s    \n",
            "\n",
            "2019-11-13 07:30:16 (12.1 MB/s) - ‘data/fashion/train-images-idx3-ubyte.gz’ saved [26421880/26421880]\n",
            "\n",
            "--2019-11-13 07:30:17--  http://fashion-mnist.s3-website.eu-central-1.amazonaws.com/train-labels-idx1-ubyte.gz\n",
            "Resolving fashion-mnist.s3-website.eu-central-1.amazonaws.com (fashion-mnist.s3-website.eu-central-1.amazonaws.com)... 52.219.72.50\n",
            "Connecting to fashion-mnist.s3-website.eu-central-1.amazonaws.com (fashion-mnist.s3-website.eu-central-1.amazonaws.com)|52.219.72.50|:80... connected.\n",
            "HTTP request sent, awaiting response... 200 OK\n",
            "Length: 29515 (29K) [binary/octet-stream]\n",
            "Saving to: ‘data/fashion/train-labels-idx1-ubyte.gz’\n",
            "\n",
            "data/fashion/train- 100%[===================>]  28.82K  --.-KB/s    in 0.1s    \n",
            "\n",
            "2019-11-13 07:30:17 (209 KB/s) - ‘data/fashion/train-labels-idx1-ubyte.gz’ saved [29515/29515]\n",
            "\n",
            "--2019-11-13 07:30:19--  http://fashion-mnist.s3-website.eu-central-1.amazonaws.com/t10k-images-idx3-ubyte.gz\n",
            "Resolving fashion-mnist.s3-website.eu-central-1.amazonaws.com (fashion-mnist.s3-website.eu-central-1.amazonaws.com)... 52.219.74.126\n",
            "Connecting to fashion-mnist.s3-website.eu-central-1.amazonaws.com (fashion-mnist.s3-website.eu-central-1.amazonaws.com)|52.219.74.126|:80... connected.\n",
            "HTTP request sent, awaiting response... 200 OK\n",
            "Length: 4422102 (4.2M) [binary/octet-stream]\n",
            "Saving to: ‘data/fashion/t10k-images-idx3-ubyte.gz’\n",
            "\n",
            "data/fashion/t10k-i 100%[===================>]   4.22M  3.78MB/s    in 1.1s    \n",
            "\n",
            "2019-11-13 07:30:20 (3.78 MB/s) - ‘data/fashion/t10k-images-idx3-ubyte.gz’ saved [4422102/4422102]\n",
            "\n",
            "--2019-11-13 07:30:21--  http://fashion-mnist.s3-website.eu-central-1.amazonaws.com/t10k-labels-idx1-ubyte.gz\n",
            "Resolving fashion-mnist.s3-website.eu-central-1.amazonaws.com (fashion-mnist.s3-website.eu-central-1.amazonaws.com)... 52.219.74.126\n",
            "Connecting to fashion-mnist.s3-website.eu-central-1.amazonaws.com (fashion-mnist.s3-website.eu-central-1.amazonaws.com)|52.219.74.126|:80... connected.\n",
            "HTTP request sent, awaiting response... 200 OK\n",
            "Length: 5148 (5.0K) [binary/octet-stream]\n",
            "Saving to: ‘data/fashion/t10k-labels-idx1-ubyte.gz’\n",
            "\n",
            "data/fashion/t10k-l 100%[===================>]   5.03K  --.-KB/s    in 0s      \n",
            "\n",
            "2019-11-13 07:30:22 (470 MB/s) - ‘data/fashion/t10k-labels-idx1-ubyte.gz’ saved [5148/5148]\n",
            "\n"
          ],
          "name": "stdout"
        }
      ]
    },
    {
      "cell_type": "markdown",
      "metadata": {
        "id": "uOmeZ7_vnmZo",
        "colab_type": "text"
      },
      "source": [
        "."
      ]
    },
    {
      "cell_type": "markdown",
      "metadata": {
        "id": "yXaoghvMotcs",
        "colab_type": "text"
      },
      "source": [
        "## Preprocessing"
      ]
    },
    {
      "cell_type": "markdown",
      "metadata": {
        "id": "bY3VHiUedejU",
        "colab_type": "text"
      },
      "source": [
        "### Load / Import Dataset"
      ]
    },
    {
      "cell_type": "code",
      "metadata": {
        "id": "QlUUtrRJW7Zc",
        "colab_type": "code",
        "outputId": "be8b6e63-9bb7-4615-e701-84bc759e8092",
        "colab": {
          "base_uri": "https://localhost:8080/",
          "height": 86
        }
      },
      "source": [
        "# Import libraries\n",
        "from tensorflow.examples.tutorials.mnist import input_data\n",
        "\n",
        "# Import Dataset ke variabel => Fashion_MNIST\n",
        "fashion_mnist = input_data.read_data_sets('data/fashion', one_hot=True)\n"
      ],
      "execution_count": 0,
      "outputs": [
        {
          "output_type": "stream",
          "text": [
            "Extracting data/fashion/train-images-idx3-ubyte.gz\n",
            "Extracting data/fashion/train-labels-idx1-ubyte.gz\n",
            "Extracting data/fashion/t10k-images-idx3-ubyte.gz\n",
            "Extracting data/fashion/t10k-labels-idx1-ubyte.gz\n"
          ],
          "name": "stdout"
        }
      ]
    },
    {
      "cell_type": "markdown",
      "metadata": {
        "id": "6zF-uuKEqpvp",
        "colab_type": "text"
      },
      "source": [
        ".\n"
      ]
    },
    {
      "cell_type": "markdown",
      "metadata": {
        "id": "yJlwBHonqpNH",
        "colab_type": "text"
      },
      "source": [
        "### Memeriksa Data\n",
        "Memeriksa dimensi dan skala dataset yang akan kita gunakan."
      ]
    },
    {
      "cell_type": "code",
      "metadata": {
        "id": "JH6r3TVMYsjX",
        "colab_type": "code",
        "outputId": "bb6abeca-4039-4c9f-a33a-d6f81f48572d",
        "colab": {
          "base_uri": "https://localhost:8080/",
          "height": 121
        }
      },
      "source": [
        "# Shapes dari Training set\n",
        "print(\"Training set (images) shape  : {shape}\".format(shape=fashion_mnist.train.images.shape))\n",
        "print(\"Training set (labels) shape  : {shape}\".format(shape=fashion_mnist.train.labels.shape))\n",
        "\n",
        "# Shape dari Validasi set\n",
        "print(\"Validasi set (images) shape  : {shape}\".format(shape=fashion_mnist.validation.images.shape))\n",
        "print(\"Validasi set (labels) shape  : {shape}\".format(shape=fashion_mnist.validation.labels.shape))\n",
        "\n",
        "# Shapes dari Test set\n",
        "print(\"Test set (images) shape      : {shape}\".format(shape=fashion_mnist.test.images.shape))\n",
        "print(\"Test set (labels) shape      : {shape}\".format(shape=fashion_mnist.test.labels.shape))"
      ],
      "execution_count": 0,
      "outputs": [
        {
          "output_type": "stream",
          "text": [
            "Training set (images) shape  : (55000, 784)\n",
            "Training set (labels) shape  : (55000, 10)\n",
            "Validasi set (images) shape  : (5000, 784)\n",
            "Validasi set (labels) shape  : (5000, 10)\n",
            "Test set (images) shape      : (10000, 784)\n",
            "Test set (labels) shape      : (10000, 10)\n"
          ],
          "name": "stdout"
        }
      ]
    },
    {
      "cell_type": "code",
      "metadata": {
        "id": "TqufwjAWfJ3D",
        "colab_type": "code",
        "colab": {}
      },
      "source": [
        "class_names = ['T-shirt/top', 'Trouser', 'Pullover', 'Dress', 'Coat',\n",
        "               'Sandal', 'Shirt', 'Sneaker', 'Bag', 'Ankle boot']"
      ],
      "execution_count": 0,
      "outputs": []
    },
    {
      "cell_type": "markdown",
      "metadata": {
        "id": "2E4qlaSuy63f",
        "colab_type": "text"
      },
      "source": [
        "."
      ]
    },
    {
      "cell_type": "markdown",
      "metadata": {
        "id": "juCG47ymy8UN",
        "colab_type": "text"
      },
      "source": [
        "### Visualisasi Awal\n"
      ]
    },
    {
      "cell_type": "code",
      "metadata": {
        "id": "cwaU7gO3m1bV",
        "colab_type": "code",
        "outputId": "e3cda87b-aec6-46cb-e198-a8b192505d6e",
        "colab": {
          "base_uri": "https://localhost:8080/",
          "height": 282
        }
      },
      "source": [
        "import numpy as np\n",
        "\n",
        "fig, axes = plt.subplots(2, 5, figsize=(9,5))\n",
        "for img, label, ax in zip(fashion_mnist.train.images[0:20], np.argmax(fashion_mnist.train.labels[0:20], 1), axes.flat):\n",
        "  ax.set_title(class_names[label])\n",
        "  ax.imshow(img.reshape(28,28), cmap=plt.get_cmap('gray'))\n",
        "  ax.axis('off')\n",
        "plt.show()"
      ],
      "execution_count": 0,
      "outputs": [
        {
          "output_type": "display_data",
          "data": {
            "image/png": "[encoded data removed]",
            "text/plain": [
              "<Figure size 648x360 with 10 Axes>"
            ]
          },
          "metadata": {
            "tags": []
          }
        }
      ]
    },
    {
      "cell_type": "markdown",
      "metadata": {
        "id": "DIAlTYQ5rrE8",
        "colab_type": "text"
      },
      "source": [
        "Melihat gambar pertama dari data training\n",
        "Melihat gambar pertama dari data testing\n"
      ]
    },
    {
      "cell_type": "code",
      "metadata": {
        "id": "WPBrA4D84umj",
        "colab_type": "code",
        "outputId": "b14250d4-21a3-4154-c74b-465247e8835c",
        "colab": {
          "base_uri": "https://localhost:8080/",
          "height": 336
        }
      },
      "source": [
        "plt.figure(figsize=[10,10])\n",
        "\n",
        "# Visualisasi dari image pertama pada data training\n",
        "plt.subplot(121)\n",
        "curr_img = np.reshape(fashion_mnist.train.images[0], (28,28))\n",
        "curr_lbl = np.argmax(fashion_mnist.train.labels[0,:])\n",
        "plt.imshow(curr_img, cmap='gray')\n",
        "plt.title(\"(Label: \" + str(class_names[curr_lbl]) + \")\")\n",
        "\n",
        "# Visualisasi first image pertama dari data testing\n",
        "plt.subplot(122)\n",
        "curr_imgs = np.reshape(fashion_mnist.test.images[0], (28,28))\n",
        "curr_lbls = np.argmax(fashion_mnist.test.labels[0,:])\n",
        "plt.imshow(curr_imgs, cmap='gray')\n",
        "plt.title(\"(Label: \" + str(class_names[curr_lbls]) + \")\")"
      ],
      "execution_count": 0,
      "outputs": [
        {
          "output_type": "execute_result",
          "data": {
            "text/plain": [
              "Text(0.5, 1.0, '(Label: Ankle boot)')"
            ]
          },
          "metadata": {
            "tags": []
          },
          "execution_count": 16
        },
        {
          "output_type": "display_data",
          "data": {
            "image/png": "[encoded data removed]",
            "text/plain": [
              "<Figure size 720x720 with 2 Axes>"
            ]
          },
          "metadata": {
            "tags": []
          }
        }
      ]
    },
    {
      "cell_type": "code",
      "metadata": {
        "id": "ecctT2FOjQUm",
        "colab_type": "code",
        "outputId": "b02e0bb5-26a3-471f-b959-e4e2f88d2de9",
        "colab": {
          "base_uri": "https://localhost:8080/",
          "height": 1000
        }
      },
      "source": [
        "fashion_mnist.train.images[0]"
      ],
      "execution_count": 0,
      "outputs": [
        {
          "output_type": "execute_result",
          "data": {
            "text/plain": [
              "array([0.        , 0.        , 0.        , 0.        , 0.        ,\n",
              "       0.        , 0.        , 0.        , 0.        , 0.        ,\n",
              "       0.        , 0.        , 0.        , 0.        , 0.        ,\n",
              "       0.        , 0.        , 0.        , 0.        , 0.00392157,\n",
              "       0.        , 0.        , 0.        , 0.        , 0.        ,\n",
              "       0.        , 0.        , 0.        , 0.        , 0.        ,\n",
              "       0.        , 0.        , 0.        , 0.        , 0.        ,\n",
              "       0.        , 0.        , 0.        , 0.        , 0.17254902,\n",
              "       0.49803925, 0.7137255 , 0.7254902 , 0.6313726 , 0.47058827,\n",
              "       0.21568629, 0.        , 0.        , 0.        , 0.        ,\n",
              "       0.        , 0.        , 0.        , 0.        , 0.        ,\n",
              "       0.        , 0.        , 0.        , 0.        , 0.        ,\n",
              "       0.        , 0.        , 0.        , 0.        , 0.        ,\n",
              "       0.16470589, 0.77647066, 0.9843138 , 1.        , 0.9843138 ,\n",
              "       0.97647065, 0.9686275 , 1.        , 0.98823535, 0.83921576,\n",
              "       0.3921569 , 0.        , 0.        , 0.        , 0.        ,\n",
              "       0.        , 0.        , 0.        , 0.        , 0.        ,\n",
              "       0.        , 0.        , 0.        , 0.        , 0.        ,\n",
              "       0.00784314, 0.        , 0.        , 0.91372555, 0.98823535,\n",
              "       0.9294118 , 0.93725497, 0.9176471 , 0.9294118 , 0.9215687 ,\n",
              "       0.9294118 , 0.9294118 , 0.9960785 , 0.89019614, 0.        ,\n",
              "       0.        , 0.        , 0.        , 0.00392157, 0.        ,\n",
              "       0.        , 0.        , 0.        , 0.        , 0.        ,\n",
              "       0.        , 0.        , 0.00784314, 0.        , 0.        ,\n",
              "       0.0627451 , 0.8235295 , 0.882353  , 0.8431373 , 0.6862745 ,\n",
              "       0.85098046, 0.8470589 , 0.7568628 , 0.7686275 , 0.8862746 ,\n",
              "       0.86666673, 0.8196079 , 0.19607845, 0.        , 0.        ,\n",
              "       0.00784314, 0.        , 0.        , 0.        , 0.        ,\n",
              "       0.        , 0.        , 0.        , 0.        , 0.00784314,\n",
              "       0.        , 0.        , 0.7803922 , 0.8980393 , 0.909804  ,\n",
              "       0.90196085, 0.9607844 , 0.8000001 , 0.8588236 , 0.9921569 ,\n",
              "       0.9607844 , 0.8117648 , 0.7607844 , 0.8745099 , 0.9058824 ,\n",
              "       0.92549026, 0.9215687 , 0.        , 0.        , 0.01176471,\n",
              "       0.        , 0.        , 0.        , 0.        , 0.        ,\n",
              "       0.        , 0.        , 0.00392157, 0.        , 0.5372549 ,\n",
              "       0.9215687 , 0.8000001 , 0.8196079 , 0.78823537, 0.8196079 ,\n",
              "       0.9176471 , 0.74509805, 0.9176471 , 0.854902  , 0.8431373 ,\n",
              "       0.9333334 , 0.93725497, 0.8000001 , 0.7411765 , 0.87843144,\n",
              "       0.6039216 , 0.        , 0.        , 0.        , 0.        ,\n",
              "       0.        , 0.        , 0.        , 0.        , 0.        ,\n",
              "       0.        , 0.        , 0.7607844 , 0.78823537, 0.7843138 ,\n",
              "       0.8196079 , 0.79215693, 0.7568628 , 0.80392164, 0.7607844 ,\n",
              "       0.7176471 , 0.854902  , 0.9058824 , 0.7725491 , 0.6745098 ,\n",
              "       0.70980394, 0.7568628 , 0.80392164, 0.7803922 , 0.        ,\n",
              "       0.        , 0.        , 0.        , 0.        , 0.        ,\n",
              "       0.        , 0.        , 0.        , 0.        , 0.01176471,\n",
              "       0.8313726 , 0.7960785 , 0.7372549 , 0.7411765 , 0.7686275 ,\n",
              "       0.77647066, 0.77647066, 0.78823537, 0.7686275 , 0.85098046,\n",
              "       0.7019608 , 0.654902  , 0.7176471 , 0.85098046, 0.7725491 ,\n",
              "       0.79215693, 0.8588236 , 0.11764707, 0.        , 0.        ,\n",
              "       0.        , 0.        , 0.        , 0.        , 0.        ,\n",
              "       0.        , 0.        , 0.13333334, 0.882353  , 0.7843138 ,\n",
              "       0.7607844 , 0.74509805, 0.7372549 , 0.75294125, 0.7686275 ,\n",
              "       0.75294125, 0.6666667 , 0.79215693, 0.74509805, 0.78823537,\n",
              "       0.76470596, 0.7843138 , 0.78823537, 0.8196079 , 0.89019614,\n",
              "       0.19607845, 0.        , 0.        , 0.        , 0.        ,\n",
              "       0.        , 0.        , 0.        , 0.        , 0.        ,\n",
              "       0.26666668, 0.882353  , 0.8235295 , 0.82745105, 0.77647066,\n",
              "       0.75294125, 0.7686275 , 0.8000001 , 0.7686275 , 0.70980394,\n",
              "       0.8313726 , 0.7725491 , 0.76470596, 0.75294125, 0.8078432 ,\n",
              "       0.86274517, 0.8235295 , 0.8980393 , 0.3647059 , 0.        ,\n",
              "       0.        , 0.        , 0.        , 0.        , 0.        ,\n",
              "       0.        , 0.        , 0.        , 0.43529415, 0.8745099 ,\n",
              "       0.89019614, 0.9921569 , 0.8196079 , 0.7686275 , 0.8000001 ,\n",
              "       0.82745105, 0.8078432 , 0.7176471 , 0.8470589 , 0.8078432 ,\n",
              "       0.8235295 , 0.7960785 , 0.8431373 , 0.9568628 , 0.87843144,\n",
              "       0.89019614, 0.5882353 , 0.        , 0.        , 0.        ,\n",
              "       0.        , 0.        , 0.        , 0.        , 0.        ,\n",
              "       0.        , 0.54509807, 0.882353  , 0.87843144, 1.        ,\n",
              "       0.79215693, 0.8078432 , 0.8313726 , 0.8196079 , 0.82745105,\n",
              "       0.74509805, 0.8352942 , 0.79215693, 0.8117648 , 0.8078432 ,\n",
              "       0.8705883 , 1.        , 0.90196085, 0.86274517, 0.74509805,\n",
              "       0.        , 0.        , 0.        , 0.        , 0.        ,\n",
              "       0.        , 0.        , 0.        , 0.        , 0.7058824 ,\n",
              "       0.8862746 , 0.87843144, 1.        , 0.7803922 , 0.8000001 ,\n",
              "       0.8117648 , 0.83921576, 0.83921576, 0.74509805, 0.8470589 ,\n",
              "       0.8078432 , 0.7960785 , 0.80392164, 0.8588236 , 0.95294124,\n",
              "       0.87843144, 0.83921576, 0.9176471 , 0.        , 0.        ,\n",
              "       0.        , 0.        , 0.        , 0.        , 0.        ,\n",
              "       0.        , 0.        , 0.882353  , 0.8745099 , 0.8941177 ,\n",
              "       0.9960785 , 0.8196079 , 0.8078432 , 0.81568635, 0.8352942 ,\n",
              "       0.8235295 , 0.7490196 , 0.8431373 , 0.8117648 , 0.8000001 ,\n",
              "       0.81568635, 0.82745105, 0.97647065, 0.8862746 , 0.83921576,\n",
              "       1.        , 0.14901961, 0.        , 0.        , 0.        ,\n",
              "       0.        , 0.        , 0.        , 0.        , 0.        ,\n",
              "       0.9803922 , 0.909804  , 0.94117653, 0.93725497, 0.82745105,\n",
              "       0.7960785 , 0.8196079 , 0.80392164, 0.82745105, 0.7725491 ,\n",
              "       0.8431373 , 0.81568635, 0.81568635, 0.83921576, 0.8352942 ,\n",
              "       0.93725497, 0.9058824 , 0.8588236 , 1.        , 0.31764707,\n",
              "       0.        , 0.        , 0.        , 0.        , 0.        ,\n",
              "       0.        , 0.        , 0.        , 0.9725491 , 0.92549026,\n",
              "       0.9686275 , 0.94117653, 0.7960785 , 0.7843138 , 0.81568635,\n",
              "       0.8078432 , 0.83921576, 0.7568628 , 0.8352942 , 0.8313726 ,\n",
              "       0.81568635, 0.8313726 , 0.82745105, 0.95294124, 0.9490197 ,\n",
              "       0.882353  , 0.9960785 , 0.25882354, 0.        , 0.        ,\n",
              "       0.        , 0.        , 0.        , 0.        , 0.        ,\n",
              "       0.        , 0.9686275 , 0.90196085, 0.98823535, 0.8862746 ,\n",
              "       0.7803922 , 0.82745105, 0.79215693, 0.82745105, 0.8352942 ,\n",
              "       0.7137255 , 0.8352942 , 0.8313726 , 0.8078432 , 0.79215693,\n",
              "       0.8588236 , 0.8117648 , 0.9686275 , 0.8705883 , 0.9294118 ,\n",
              "       0.40784317, 0.        , 0.        , 0.        , 0.        ,\n",
              "       0.        , 0.        , 0.        , 0.03921569, 0.9568628 ,\n",
              "       0.8588236 , 0.9803922 , 0.80392164, 0.7803922 , 0.8196079 ,\n",
              "       0.79215693, 0.8196079 , 0.82745105, 0.7411765 , 0.83921576,\n",
              "       0.8078432 , 0.8235295 , 0.7843138 , 0.8313726 , 0.6039216 ,\n",
              "       0.94117653, 0.81568635, 0.8588236 , 0.54901963, 0.        ,\n",
              "       0.        , 0.        , 0.        , 0.        , 0.        ,\n",
              "       0.        , 0.08235294, 1.        , 0.8705883 , 0.9333334 ,\n",
              "       0.72156864, 0.8235295 , 0.75294125, 0.8078432 , 0.8196079 ,\n",
              "       0.8235295 , 0.7411765 , 0.8352942 , 0.82745105, 0.8196079 ,\n",
              "       0.75294125, 0.8941177 , 0.60784316, 0.8862746 , 0.9333334 ,\n",
              "       0.9450981 , 0.6509804 , 0.        , 0.        , 0.        ,\n",
              "       0.        , 0.        , 0.        , 0.        , 0.14509805,\n",
              "       0.9607844 , 0.8862746 , 0.9450981 , 0.5882353 , 0.7725491 ,\n",
              "       0.7411765 , 0.8000001 , 0.8196079 , 0.8235295 , 0.7176471 ,\n",
              "       0.8352942 , 0.8352942 , 0.78823537, 0.72156864, 0.8431373 ,\n",
              "       0.57254905, 0.8470589 , 0.92549026, 0.882353  , 0.6039216 ,\n",
              "       0.        , 0.        , 0.        , 0.        , 0.        ,\n",
              "       0.        , 0.        , 0.227451  , 0.93725497, 0.89019614,\n",
              "       1.        , 0.61960787, 0.7568628 , 0.76470596, 0.8000001 ,\n",
              "       0.8196079 , 0.8352942 , 0.7058824 , 0.8117648 , 0.85098046,\n",
              "       0.7803922 , 0.7607844 , 0.82745105, 0.61960787, 0.8588236 ,\n",
              "       0.92549026, 0.8470589 , 0.5921569 , 0.        , 0.        ,\n",
              "       0.        , 0.        , 0.        , 0.        , 0.        ,\n",
              "       0.26666668, 0.91372555, 0.8862746 , 0.95294124, 0.54509807,\n",
              "       0.7843138 , 0.7568628 , 0.80392164, 0.8235295 , 0.81568635,\n",
              "       0.7058824 , 0.80392164, 0.8313726 , 0.7960785 , 0.7686275 ,\n",
              "       0.8470589 , 0.6156863 , 0.7019608 , 1.        , 0.8470589 ,\n",
              "       0.60784316, 0.        , 0.        , 0.        , 0.        ,\n",
              "       0.        , 0.        , 0.        , 0.31764707, 0.882353  ,\n",
              "       0.87843144, 0.82745105, 0.5411765 , 0.8588236 , 0.7254902 ,\n",
              "       0.78823537, 0.8352942 , 0.8117648 , 0.7725491 , 0.8862746 ,\n",
              "       0.8313726 , 0.7843138 , 0.74509805, 0.8431373 , 0.7176471 ,\n",
              "       0.3529412 , 1.        , 0.82745105, 0.5764706 , 0.        ,\n",
              "       0.        , 0.        , 0.        , 0.        , 0.        ,\n",
              "       0.        , 0.35686275, 0.8235295 , 0.90196085, 0.61960787,\n",
              "       0.44705886, 0.80392164, 0.73333335, 0.81568635, 0.8196079 ,\n",
              "       0.8078432 , 0.7568628 , 0.8235295 , 0.82745105, 0.8000001 ,\n",
              "       0.76470596, 0.8000001 , 0.70980394, 0.09019608, 1.        ,\n",
              "       0.8352942 , 0.61960787, 0.        , 0.        , 0.        ,\n",
              "       0.        , 0.        , 0.        , 0.        , 0.34117648,\n",
              "       0.80392164, 0.909804  , 0.427451  , 0.6431373 , 1.        ,\n",
              "       0.83921576, 0.87843144, 0.8705883 , 0.8235295 , 0.7725491 ,\n",
              "       0.83921576, 0.882353  , 0.8705883 , 0.82745105, 0.86274517,\n",
              "       0.85098046, 0.        , 0.9176471 , 0.8470589 , 0.6627451 ,\n",
              "       0.        , 0.        , 0.        , 0.        , 0.        ,\n",
              "       0.        , 0.        , 0.36078432, 0.8352942 , 0.909804  ,\n",
              "       0.57254905, 0.01960784, 0.5254902 , 0.5921569 , 0.63529414,\n",
              "       0.6666667 , 0.7176471 , 0.7137255 , 0.6431373 , 0.6509804 ,\n",
              "       0.69803923, 0.63529414, 0.6117647 , 0.38431376, 0.        ,\n",
              "       0.94117653, 0.882353  , 0.8235295 , 0.        , 0.        ,\n",
              "       0.        , 0.        , 0.        , 0.        , 0.        ,\n",
              "       0.16862746, 0.6431373 , 0.8078432 , 0.5529412 , 0.        ,\n",
              "       0.        , 0.        , 0.        , 0.        , 0.        ,\n",
              "       0.        , 0.        , 0.        , 0.        , 0.        ,\n",
              "       0.        , 0.        , 0.        , 0.49803925, 0.4901961 ,\n",
              "       0.29803923, 0.        , 0.        , 0.        ], dtype=float32)"
            ]
          },
          "metadata": {
            "tags": []
          },
          "execution_count": 18
        }
      ]
    },
    {
      "cell_type": "markdown",
      "metadata": {
        "id": "QhbVYcGsylmv",
        "colab_type": "text"
      },
      "source": [
        "."
      ]
    },
    {
      "cell_type": "code",
      "metadata": {
        "id": "Bwbis8uQLNmJ",
        "colab_type": "code",
        "outputId": "60c9d84a-2d23-41c7-d0dc-db8b35bd947c",
        "colab": {
          "base_uri": "https://localhost:8080/",
          "height": 34
        }
      },
      "source": [
        "type(fashion_mnist)"
      ],
      "execution_count": 0,
      "outputs": [
        {
          "output_type": "execute_result",
          "data": {
            "text/plain": [
              "tensorflow.contrib.learn.python.learn.datasets.base.Datasets"
            ]
          },
          "metadata": {
            "tags": []
          },
          "execution_count": 21
        }
      ]
    },
    {
      "cell_type": "markdown",
      "metadata": {
        "id": "Yh1pFT1NzhBx",
        "colab_type": "text"
      },
      "source": [
        "."
      ]
    },
    {
      "cell_type": "markdown",
      "metadata": {
        "id": "IGiCobGupGiF",
        "colab_type": "text"
      },
      "source": [
        "## Training"
      ]
    },
    {
      "cell_type": "markdown",
      "metadata": {
        "id": "9f5aOJwgzXy1",
        "colab_type": "text"
      },
      "source": [
        "### Memecah data\n"
      ]
    },
    {
      "cell_type": "markdown",
      "metadata": {
        "id": "CJFrliy_r3FY",
        "colab_type": "text"
      },
      "source": [
        "Split Data dan mereshape nya"
      ]
    },
    {
      "cell_type": "code",
      "metadata": {
        "id": "PcrheOmK6mlU",
        "colab_type": "code",
        "outputId": "70310735-ec8c-4523-8dbb-d31719de7e11",
        "colab": {
          "base_uri": "https://localhost:8080/",
          "height": 34
        }
      },
      "source": [
        "# Reshape training and testing image for input\n",
        "train_X = fashion_mnist.train.images.reshape(-1, 28, 28, 1)\n",
        "test_X = fashion_mnist.test.images.reshape(-1,28,28,1)\n",
        "train_X = train_X.astype('float32') / 255\n",
        "test_X = test_X.astype('float32') / 255\n",
        "train_X.shape, test_X.shape"
      ],
      "execution_count": 0,
      "outputs": [
        {
          "output_type": "execute_result",
          "data": {
            "text/plain": [
              "((55000, 28, 28, 1), (10000, 28, 28, 1))"
            ]
          },
          "metadata": {
            "tags": []
          },
          "execution_count": 19
        }
      ]
    },
    {
      "cell_type": "code",
      "metadata": {
        "id": "Jtl3--mD61zB",
        "colab_type": "code",
        "outputId": "6604c1cc-5706-4fbe-8c9e-67cf41107ea5",
        "colab": {
          "base_uri": "https://localhost:8080/",
          "height": 34
        }
      },
      "source": [
        "# Reshape training and testing image for output\n",
        "train_y = fashion_mnist.train.labels\n",
        "test_y = fashion_mnist.test.labels\n",
        "train_y.shape, test_y.shape"
      ],
      "execution_count": 0,
      "outputs": [
        {
          "output_type": "execute_result",
          "data": {
            "text/plain": [
              "((55000, 10), (10000, 10))"
            ]
          },
          "metadata": {
            "tags": []
          },
          "execution_count": 20
        }
      ]
    },
    {
      "cell_type": "markdown",
      "metadata": {
        "id": "m6J2_eetzi68",
        "colab_type": "text"
      },
      "source": [
        "### Set parameter dan Modelling\n",
        "Membuat *Parameter* dan melakukan modeling"
      ]
    },
    {
      "cell_type": "code",
      "metadata": {
        "id": "ZJaF37fO-STF",
        "colab_type": "code",
        "colab": {}
      },
      "source": [
        "training_iters = 50 \n",
        "learning_rate = 0.001 \n",
        "batch_size = 128\n",
        "\n",
        "### PARAMETER PERTAMA\n",
        "# MNIST data input (img shape: 28*28)\n",
        "n_input = 28\n",
        "\n",
        "# MNIST total class (0-9 digits)\n",
        "n_classes = 10"
      ],
      "execution_count": 0,
      "outputs": []
    },
    {
      "cell_type": "code",
      "metadata": {
        "id": "hSoiUg73YGbQ",
        "colab_type": "code",
        "colab": {}
      },
      "source": [
        "#semua placeholders  bertype float\n",
        "x = tf.placeholder(\"float\", [None, 28,28,1])\n",
        "y = tf.placeholder(\"float\", [None, n_classes])"
      ],
      "execution_count": 0,
      "outputs": []
    },
    {
      "cell_type": "code",
      "metadata": {
        "id": "Cydzo0cGYHDD",
        "colab_type": "code",
        "colab": {}
      },
      "source": [
        "def conv2d(x, W, b, strides=1):\n",
        "    # Conv2D wrapper, dengan bias dan activation nya meggunakan RELU\n",
        "    x = tf.nn.conv2d(x, W, strides=[1, strides, strides, 1], padding='SAME')\n",
        "    x = tf.nn.bias_add(x, b)\n",
        "    return tf.nn.relu(x) \n",
        "\n",
        "def maxpool2d(x, k=2):\n",
        "    return tf.nn.max_pool(x, ksize=[1, k, k, 1], strides=[1, k, k, 1],padding='SAME')"
      ],
      "execution_count": 0,
      "outputs": []
    },
    {
      "cell_type": "markdown",
      "metadata": {
        "id": "h03r-tlx2ERe",
        "colab_type": "text"
      },
      "source": [
        "."
      ]
    },
    {
      "cell_type": "markdown",
      "metadata": {
        "id": "Tt_egYaD11ea",
        "colab_type": "text"
      },
      "source": [
        "Mendefenisiikan variabel weights dan bias  "
      ]
    },
    {
      "cell_type": "code",
      "metadata": {
        "id": "TWj9weETYXG7",
        "colab_type": "code",
        "outputId": "684c10cb-1c24-4df3-c514-82fc1845afef",
        "colab": {
          "base_uri": "https://localhost:8080/",
          "height": 156
        }
      },
      "source": [
        "weights = {\n",
        "    'wc1': tf.get_variable('W0', shape=(3,3,1,32), initializer=tf.contrib.layers.xavier_initializer()), \n",
        "    'wc2': tf.get_variable('W1', shape=(3,3,32,64), initializer=tf.contrib.layers.xavier_initializer()), \n",
        "    'wc3': tf.get_variable('W2', shape=(3,3,64,128), initializer=tf.contrib.layers.xavier_initializer()), \n",
        "    'wd1': tf.get_variable('W3', shape=(4*4*128,128), initializer=tf.contrib.layers.xavier_initializer()), \n",
        "    'out': tf.get_variable('W6', shape=(128,n_classes), initializer=tf.contrib.layers.xavier_initializer()), \n",
        "}\n",
        "biases = {\n",
        "    'bc1': tf.get_variable('B0', shape=(32), initializer=tf.contrib.layers.xavier_initializer()),\n",
        "    'bc2': tf.get_variable('B1', shape=(64), initializer=tf.contrib.layers.xavier_initializer()),\n",
        "    'bc3': tf.get_variable('B2', shape=(128), initializer=tf.contrib.layers.xavier_initializer()),\n",
        "    'bd1': tf.get_variable('B3', shape=(128), initializer=tf.contrib.layers.xavier_initializer()),\n",
        "    'out': tf.get_variable('B4', shape=(10), initializer=tf.contrib.layers.xavier_initializer()),\n",
        "}"
      ],
      "execution_count": 0,
      "outputs": [
        {
          "output_type": "stream",
          "text": [
            "WARNING:tensorflow:\n",
            "The TensorFlow contrib module will not be included in TensorFlow 2.0.\n",
            "For more information, please see:\n",
            "  * https://github.com/tensorflow/community/blob/master/rfcs/20180907-contrib-sunset.md\n",
            "  * https://github.com/tensorflow/addons\n",
            "  * https://github.com/tensorflow/io (for I/O related ops)\n",
            "If you depend on functionality not listed there, please file an issue.\n",
            "\n"
          ],
          "name": "stdout"
        }
      ]
    },
    {
      "cell_type": "markdown",
      "metadata": {
        "id": "AVySreSe4mGx",
        "colab_type": "text"
      },
      "source": [
        "\n",
        "Mendefinisikan architecture"
      ]
    },
    {
      "cell_type": "code",
      "metadata": {
        "id": "XlfSJZ84YZ5s",
        "colab_type": "code",
        "colab": {}
      },
      "source": [
        "def conv_net(x, weights, biases):  \n",
        "\n",
        "    # memanggil fungsi conv2d, gambar input x, bobot wc1 dan bias bc1.\n",
        "    conv1 = conv2d(x, weights['wc1'], biases['bc1'])\n",
        "    # Max Pooling (down-sampling), mengambil max value dari matrix 2*2 dan menghasilkaln outputs  14*14 matrix.\n",
        "    conv1 = maxpool2d(conv1, k=2)\n",
        "\n",
        "    # Convolution Layer\n",
        "    # memanggil fungsi conv2d dan input image x, weights wc2 and bias bc2.\n",
        "    conv2 = conv2d(conv1, weights['wc2'], biases['bc2'])\n",
        "    # Max Pooling (down-sampling), tmengambil max value dari matrix 2*2 dan menghasilkaln outputs 7*7 matrix.\n",
        "    conv2 = maxpool2d(conv2, k=2)\n",
        "\n",
        "    conv3 = conv2d(conv2, weights['wc3'], biases['bc3'])\n",
        "    # Max Pooling (down-sampling), mengambil max value dari matrix 2*2  dan menghasilkaln outputs 4*4 matrix.\n",
        "    conv3 = maxpool2d(conv3, k=2)\n",
        "\n",
        "\n",
        "\n",
        "    # Fully connected layer\n",
        "    # Reshape conv2 output kedalam fit fully connected layer input\n",
        "    fc1 = tf.reshape(conv3, [-1, weights['wd1'].get_shape().as_list()[0]])\n",
        "    fc1 = tf.add(tf.matmul(fc1, weights['wd1']), biases['bd1'])\n",
        "    fc1 = tf.nn.relu(fc1)\n",
        "\n",
        "    # Output, class prediksi\n",
        "    # fully connected layer dengan weights dan bias. \n",
        "    out = tf.add(tf.matmul(fc1, weights['out']), biases['out'])\n",
        "    return out"
      ],
      "execution_count": 0,
      "outputs": []
    },
    {
      "cell_type": "markdown",
      "metadata": {
        "id": "_fqshRjU6P1F",
        "colab_type": "text"
      },
      "source": [
        "."
      ]
    },
    {
      "cell_type": "markdown",
      "metadata": {
        "id": "9Dn3ZqoF6bCp",
        "colab_type": "text"
      },
      "source": [
        "### Loss and Optimizer"
      ]
    },
    {
      "cell_type": "markdown",
      "metadata": {
        "id": "07gVheup6PXf",
        "colab_type": "text"
      },
      "source": [
        "Modelling dengan memanggil fungsi conv_net () dengan memasukkan input x, weight, dan bias.\n",
        "(Prediksi)"
      ]
    },
    {
      "cell_type": "code",
      "metadata": {
        "id": "no1EcQySYcjR",
        "colab_type": "code",
        "outputId": "1183190e-60f1-4355-96a3-d38c4a783aab",
        "colab": {
          "base_uri": "https://localhost:8080/",
          "height": 176
        }
      },
      "source": [
        "pred = conv_net(x, weights, biases)\n",
        "\n",
        "cost = tf.reduce_mean(tf.nn.softmax_cross_entropy_with_logits(logits=pred, labels=y))\n",
        "\n",
        "optimizer = tf.train.AdamOptimizer(learning_rate=learning_rate).minimize(cost)"
      ],
      "execution_count": 0,
      "outputs": [
        {
          "output_type": "stream",
          "text": [
            "WARNING:tensorflow:From <ipython-input-27-989f812044df>:3: softmax_cross_entropy_with_logits (from tensorflow.python.ops.nn_ops) is deprecated and will be removed in a future version.\n",
            "Instructions for updating:\n",
            "\n",
            "Future major versions of TensorFlow will allow gradients to flow\n",
            "into the labels input on backprop by default.\n",
            "\n",
            "See `tf.nn.softmax_cross_entropy_with_logits_v2`.\n",
            "\n"
          ],
          "name": "stdout"
        }
      ]
    },
    {
      "cell_type": "markdown",
      "metadata": {
        "id": "VUUyLMaq7b7U",
        "colab_type": "text"
      },
      "source": [
        "."
      ]
    },
    {
      "cell_type": "markdown",
      "metadata": {
        "id": "LtdaUYvZ7gEU",
        "colab_type": "text"
      },
      "source": [
        "### Predeksi / Mengevaluasi Model"
      ]
    },
    {
      "cell_type": "code",
      "metadata": {
        "id": "jAXh4LmqYh7I",
        "colab_type": "code",
        "outputId": "c9362ac0-4f90-4b1d-fae7-39940ffcac2e",
        "colab": {
          "base_uri": "https://localhost:8080/",
          "height": 52
        }
      },
      "source": [
        "# Memprediksi apakah image prediksi sama dengan image asli\n",
        "correct_prediction = tf.equal(tf.argmax(pred, 1), tf.argmax(y, 1))\n",
        "\n",
        "# Menghitung akurasi.\n",
        "accuracy = tf.reduce_mean(tf.cast(correct_prediction, tf.float32))"
      ],
      "execution_count": 0,
      "outputs": [
        {
          "output_type": "stream",
          "text": [
            "Tensor(\"Mean_2:0\", shape=(), dtype=float32)\n",
            "Tensor(\"Equal_1:0\", shape=(?,), dtype=bool)\n"
          ],
          "name": "stdout"
        }
      ]
    },
    {
      "cell_type": "code",
      "metadata": {
        "id": "8pgM-n1OYwnz",
        "colab_type": "code",
        "colab": {}
      },
      "source": [
        "# Inisialisasi variabel\n",
        "init = tf.global_variables_initializer()"
      ],
      "execution_count": 0,
      "outputs": []
    },
    {
      "cell_type": "markdown",
      "metadata": {
        "id": "SRFCKm7DhIo6",
        "colab_type": "text"
      },
      "source": [
        "### Training dan Testing the Model"
      ]
    },
    {
      "cell_type": "code",
      "metadata": {
        "id": "knnsk_FpY1_c",
        "colab_type": "code",
        "outputId": "53c3caba-e059-40c2-d849-1b1bd76c3e6c",
        "colab": {
          "base_uri": "https://localhost:8080/",
          "height": 1000
        }
      },
      "source": [
        "with tf.Session() as sess:\n",
        "    sess.run(init) \n",
        "    train_loss = []\n",
        "    test_loss = []\n",
        "    train_accuracy = []\n",
        "    test_accuracy = []\n",
        "    summary_writer = tf.summary.FileWriter('./Output', sess.graph)\n",
        "    for i in range(training_iters):\n",
        "        for batch in range(len(train_X)//batch_size):\n",
        "            batch_x = train_X[batch*batch_size:min((batch+1)*batch_size,len(train_X))]\n",
        "            batch_y = train_y[batch*batch_size:min((batch+1)*batch_size,len(train_y))]    \n",
        "            # Run optimization op (backprop).\n",
        "                # Menghitung batch loss and accuracy\n",
        "            opt = sess.run(optimizer, feed_dict={x: batch_x,\n",
        "                                                              y: batch_y})\n",
        "            loss, acc = sess.run([cost, accuracy], feed_dict={x: batch_x,\n",
        "                                                              y: batch_y})\n",
        "        print(\"Iter \" + str(i) + \", Loss= \" + \\\n",
        "                      \"{:.6f}\".format(loss) + \", Training Accuracy= \" + \\\n",
        "                      \"{:.5f}\".format(acc))\n",
        "        print(\"Optimization Finished!\")\n",
        "\n",
        "        # Menghitu accuracy untuk  10000 mnist test images\n",
        "        test_acc,valid_loss = sess.run([accuracy,cost], feed_dict={x: test_X,y : test_y})\n",
        "        train_loss.append(loss)\n",
        "        test_loss.append(valid_loss)\n",
        "        train_accuracy.append(acc)\n",
        "        test_accuracy.append(test_acc)\n",
        "        print(\"Testing Accuracy:\",\"{:.5f}\".format(test_acc))\n",
        "    summary_writer.close()"
      ],
      "execution_count": 0,
      "outputs": [
        {
          "output_type": "stream",
          "text": [
            "Iter 0, Loss= 1.510870, Training Accuracy= 0.47656\n",
            "Optimization Finished!\n",
            "Testing Accuracy: 0.42860\n",
            "Iter 1, Loss= 0.587113, Training Accuracy= 0.75000\n",
            "Optimization Finished!\n",
            "Testing Accuracy: 0.73020\n",
            "Iter 2, Loss= 0.481920, Training Accuracy= 0.80469\n",
            "Optimization Finished!\n",
            "Testing Accuracy: 0.77310\n",
            "Iter 3, Loss= 0.432529, Training Accuracy= 0.83594\n",
            "Optimization Finished!\n",
            "Testing Accuracy: 0.79650\n",
            "Iter 4, Loss= 0.405658, Training Accuracy= 0.83594\n",
            "Optimization Finished!\n",
            "Testing Accuracy: 0.81690\n",
            "Iter 5, Loss= 0.399157, Training Accuracy= 0.84375\n",
            "Optimization Finished!\n",
            "Testing Accuracy: 0.82900\n",
            "Iter 6, Loss= 0.396757, Training Accuracy= 0.85156\n",
            "Optimization Finished!\n",
            "Testing Accuracy: 0.83630\n",
            "Iter 7, Loss= 0.380744, Training Accuracy= 0.85938\n",
            "Optimization Finished!\n",
            "Testing Accuracy: 0.84310\n",
            "Iter 8, Loss= 0.361583, Training Accuracy= 0.85938\n",
            "Optimization Finished!\n",
            "Testing Accuracy: 0.85400\n",
            "Iter 9, Loss= 0.343731, Training Accuracy= 0.86719\n",
            "Optimization Finished!\n",
            "Testing Accuracy: 0.85810\n",
            "Iter 10, Loss= 0.338042, Training Accuracy= 0.86719\n",
            "Optimization Finished!\n",
            "Testing Accuracy: 0.85870\n",
            "Iter 11, Loss= 0.341150, Training Accuracy= 0.86719\n",
            "Optimization Finished!\n",
            "Testing Accuracy: 0.85790\n",
            "Iter 12, Loss= 0.333079, Training Accuracy= 0.88281\n",
            "Optimization Finished!\n",
            "Testing Accuracy: 0.86160\n",
            "Iter 13, Loss= 0.325413, Training Accuracy= 0.89062\n",
            "Optimization Finished!\n",
            "Testing Accuracy: 0.86290\n",
            "Iter 14, Loss= 0.323164, Training Accuracy= 0.89062\n",
            "Optimization Finished!\n",
            "Testing Accuracy: 0.86640\n",
            "Iter 15, Loss= 0.312527, Training Accuracy= 0.89062\n",
            "Optimization Finished!\n",
            "Testing Accuracy: 0.86880\n",
            "Iter 16, Loss= 0.302946, Training Accuracy= 0.88281\n",
            "Optimization Finished!\n",
            "Testing Accuracy: 0.86720\n",
            "Iter 17, Loss= 0.292772, Training Accuracy= 0.89062\n",
            "Optimization Finished!\n",
            "Testing Accuracy: 0.86750\n",
            "Iter 18, Loss= 0.290198, Training Accuracy= 0.89062\n",
            "Optimization Finished!\n",
            "Testing Accuracy: 0.86700\n",
            "Iter 19, Loss= 0.292442, Training Accuracy= 0.88281\n",
            "Optimization Finished!\n",
            "Testing Accuracy: 0.86740\n",
            "Iter 20, Loss= 0.286262, Training Accuracy= 0.89062\n",
            "Optimization Finished!\n",
            "Testing Accuracy: 0.86950\n",
            "Iter 21, Loss= 0.279098, Training Accuracy= 0.90625\n",
            "Optimization Finished!\n",
            "Testing Accuracy: 0.86910\n",
            "Iter 22, Loss= 0.276139, Training Accuracy= 0.90625\n",
            "Optimization Finished!\n",
            "Testing Accuracy: 0.86960\n",
            "Iter 23, Loss= 0.279952, Training Accuracy= 0.91406\n",
            "Optimization Finished!\n",
            "Testing Accuracy: 0.86500\n",
            "Iter 24, Loss= 0.252662, Training Accuracy= 0.91406\n",
            "Optimization Finished!\n",
            "Testing Accuracy: 0.86930\n",
            "Iter 25, Loss= 0.236931, Training Accuracy= 0.91406\n",
            "Optimization Finished!\n",
            "Testing Accuracy: 0.87520\n",
            "Iter 26, Loss= 0.236557, Training Accuracy= 0.91406\n",
            "Optimization Finished!\n",
            "Testing Accuracy: 0.87520\n",
            "Iter 27, Loss= 0.219142, Training Accuracy= 0.92188\n",
            "Optimization Finished!\n",
            "Testing Accuracy: 0.87620\n",
            "Iter 28, Loss= 0.213633, Training Accuracy= 0.92188\n",
            "Optimization Finished!\n",
            "Testing Accuracy: 0.87470\n",
            "Iter 29, Loss= 0.212271, Training Accuracy= 0.92969\n",
            "Optimization Finished!\n",
            "Testing Accuracy: 0.87410\n",
            "Iter 30, Loss= 0.192281, Training Accuracy= 0.93750\n",
            "Optimization Finished!\n",
            "Testing Accuracy: 0.87430\n",
            "Iter 31, Loss= 0.177171, Training Accuracy= 0.93750\n",
            "Optimization Finished!\n",
            "Testing Accuracy: 0.87560\n",
            "Iter 32, Loss= 0.181597, Training Accuracy= 0.94531\n",
            "Optimization Finished!\n",
            "Testing Accuracy: 0.87480\n",
            "Iter 33, Loss= 0.173041, Training Accuracy= 0.93750\n",
            "Optimization Finished!\n",
            "Testing Accuracy: 0.87710\n",
            "Iter 34, Loss= 0.168056, Training Accuracy= 0.94531\n",
            "Optimization Finished!\n",
            "Testing Accuracy: 0.87880\n",
            "Iter 35, Loss= 0.163672, Training Accuracy= 0.93750\n",
            "Optimization Finished!\n",
            "Testing Accuracy: 0.87850\n",
            "Iter 36, Loss= 0.155142, Training Accuracy= 0.93750\n",
            "Optimization Finished!\n",
            "Testing Accuracy: 0.87910\n",
            "Iter 37, Loss= 0.148614, Training Accuracy= 0.95312\n",
            "Optimization Finished!\n",
            "Testing Accuracy: 0.88050\n",
            "Iter 38, Loss= 0.155871, Training Accuracy= 0.94531\n",
            "Optimization Finished!\n",
            "Testing Accuracy: 0.88110\n",
            "Iter 39, Loss= 0.173399, Training Accuracy= 0.93750\n",
            "Optimization Finished!\n",
            "Testing Accuracy: 0.88060\n",
            "Iter 40, Loss= 0.175086, Training Accuracy= 0.94531\n",
            "Optimization Finished!\n",
            "Testing Accuracy: 0.88190\n",
            "Iter 41, Loss= 0.154762, Training Accuracy= 0.95312\n",
            "Optimization Finished!\n",
            "Testing Accuracy: 0.88470\n",
            "Iter 42, Loss= 0.145437, Training Accuracy= 0.96094\n",
            "Optimization Finished!\n",
            "Testing Accuracy: 0.88750\n",
            "Iter 43, Loss= 0.144934, Training Accuracy= 0.93750\n",
            "Optimization Finished!\n",
            "Testing Accuracy: 0.88670\n",
            "Iter 44, Loss= 0.144539, Training Accuracy= 0.95312\n",
            "Optimization Finished!\n",
            "Testing Accuracy: 0.88590\n",
            "Iter 45, Loss= 0.143254, Training Accuracy= 0.95312\n",
            "Optimization Finished!\n",
            "Testing Accuracy: 0.88470\n",
            "Iter 46, Loss= 0.133573, Training Accuracy= 0.95312\n",
            "Optimization Finished!\n",
            "Testing Accuracy: 0.88440\n",
            "Iter 47, Loss= 0.131735, Training Accuracy= 0.96875\n",
            "Optimization Finished!\n",
            "Testing Accuracy: 0.88530\n",
            "Iter 48, Loss= 0.125157, Training Accuracy= 0.96094\n",
            "Optimization Finished!\n",
            "Testing Accuracy: 0.88470\n",
            "Iter 49, Loss= 0.122149, Training Accuracy= 0.96094\n",
            "Optimization Finished!\n",
            "Testing Accuracy: 0.88360\n"
          ],
          "name": "stdout"
        }
      ]
    },
    {
      "cell_type": "markdown",
      "metadata": {
        "id": "VpUfawagpZx8",
        "colab_type": "text"
      },
      "source": [
        "."
      ]
    },
    {
      "cell_type": "markdown",
      "metadata": {
        "id": "QKudlIMQpZFp",
        "colab_type": "text"
      },
      "source": [
        "## Evaluation"
      ]
    },
    {
      "cell_type": "markdown",
      "metadata": {
        "id": "myLrjOFksae5",
        "colab_type": "text"
      },
      "source": [
        "### Accuracy"
      ]
    },
    {
      "cell_type": "code",
      "metadata": {
        "id": "h79zn5s6p5Gc",
        "colab_type": "code",
        "outputId": "e102fc4d-143c-4ecc-9f2b-3f2cc7a2fee9",
        "colab": {
          "base_uri": "https://localhost:8080/",
          "height": 69
        }
      },
      "source": [
        "print(\"Testing Accuracy  :\",\"{:.5f}\".format(loss))\n",
        "print(\"Training Accuracy :\",\"{:.5f}\".format(acc))\n",
        "print(\"Loss Accuracy     :\",\"{:.5f}\".format(test_acc))"
      ],
      "execution_count": 0,
      "outputs": [
        {
          "output_type": "stream",
          "text": [
            "Testing Accuracy  : 0.12215\n",
            "Training Accuracy : 0.96094\n",
            "Loss Accuracy     : 0.88360\n"
          ],
          "name": "stdout"
        }
      ]
    },
    {
      "cell_type": "markdown",
      "metadata": {
        "id": "-ukGbu7fpYxr",
        "colab_type": "text"
      },
      "source": [
        "### Visualisasi Hasil"
      ]
    },
    {
      "cell_type": "code",
      "metadata": {
        "id": "EG4Gl5s38AQz",
        "colab_type": "code",
        "outputId": "f2b204ff-ae71-4492-ca48-c1983cc78220",
        "colab": {
          "base_uri": "https://localhost:8080/",
          "height": 317
        }
      },
      "source": [
        "# Visualisasi dari Test dan Traning Loss\n",
        "plt.plot(range(len(train_loss)), train_loss, 'b', label='Training loss')\n",
        "plt.plot(range(len(train_loss)), test_loss, 'r', label='Test loss')\n",
        "plt.title('Training and Test loss')\n",
        "plt.xlabel('Epochs ',fontsize=16)\n",
        "plt.ylabel('Loss',fontsize=16)\n",
        "plt.legend()\n",
        "plt.figure()\n",
        "plt.show()"
      ],
      "execution_count": 0,
      "outputs": [
        {
          "output_type": "display_data",
          "data": {
            "image/png": "[encoded data removed]",
            "text/plain": [
              "<Figure size 432x288 with 1 Axes>"
            ]
          },
          "metadata": {
            "tags": []
          }
        },
        {
          "output_type": "display_data",
          "data": {
            "text/plain": [
              "<Figure size 432x288 with 0 Axes>"
            ]
          },
          "metadata": {
            "tags": []
          }
        }
      ]
    },
    {
      "cell_type": "code",
      "metadata": {
        "id": "4hbN3hpF8TBs",
        "colab_type": "code",
        "outputId": "1767f27f-fcbb-4c0e-991f-59c039417881",
        "colab": {
          "base_uri": "https://localhost:8080/",
          "height": 317
        }
      },
      "source": [
        "# Visualisasi dari Accuracy Training dan Test\n",
        "plt.plot(range(len(train_loss)), train_accuracy, 'b', label='Training Accuracy')\n",
        "plt.plot(range(len(train_loss)), test_accuracy, 'r', label='Test Accuracy')\n",
        "plt.title('Training and Test Accuracy')\n",
        "plt.xlabel('Epochs ',fontsize=16)\n",
        "plt.ylabel('Loss',fontsize=16)\n",
        "plt.legend()\n",
        "plt.figure()\n",
        "plt.show()"
      ],
      "execution_count": 0,
      "outputs": [
        {
          "output_type": "display_data",
          "data": {
            "image/png": "[encoded data removed]",
            "text/plain": [
              "<Figure size 432x288 with 1 Axes>"
            ]
          },
          "metadata": {
            "tags": []
          }
        },
        {
          "output_type": "display_data",
          "data": {
            "text/plain": [
              "<Figure size 432x288 with 0 Axes>"
            ]
          },
          "metadata": {
            "tags": []
          }
        }
      ]
    },
    {
      "cell_type": "code",
      "metadata": {
        "id": "5OzyzR3dNc2S",
        "colab_type": "code",
        "colab": {}
      },
      "source": [
        ""
      ],
      "execution_count": 0,
      "outputs": []
    },
    {
      "cell_type": "code",
      "metadata": {
        "id": "khyIdpWnN4Oe",
        "colab_type": "code",
        "colab": {}
      },
      "source": [
        ""
      ],
      "execution_count": 0,
      "outputs": []
    }
  ]
}